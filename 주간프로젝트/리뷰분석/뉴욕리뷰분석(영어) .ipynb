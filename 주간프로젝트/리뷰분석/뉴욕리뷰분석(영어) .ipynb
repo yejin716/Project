{
 "cells": [
  {
   "cell_type": "code",
   "execution_count": 2,
   "metadata": {},
   "outputs": [],
   "source": [
    "# !pip install nltk"
   ]
  },
  {
   "cell_type": "code",
   "execution_count": 4,
   "metadata": {},
   "outputs": [],
   "source": [
    "import pandas as pd\n",
    "\n",
    "path = './data/reviews.csv'\n",
    "\n",
    "df = pd.read_csv(path)"
   ]
  },
  {
   "cell_type": "code",
   "execution_count": 6,
   "metadata": {},
   "outputs": [
    {
     "data": {
      "text/plain": [
       "Index(['listing_id', 'id', 'date', 'reviewer_id', 'reviewer_name', 'comments'], dtype='object')"
      ]
     },
     "execution_count": 6,
     "metadata": {},
     "output_type": "execute_result"
    }
   ],
   "source": [
    "df.columns"
   ]
  },
  {
   "cell_type": "code",
   "execution_count": 7,
   "metadata": {},
   "outputs": [
    {
     "data": {
      "text/plain": [
       "0                             Simple place, super nice guy.\n",
       "1         Great guy with a basic room. Clean sheets and ...\n",
       "2         Garon gave me the opportunity to share some of...\n",
       "3         garon is a sweet person with a lot of knowledg...\n",
       "4         Garon - your home was very cozy and comfortabl...\n",
       "                                ...                        \n",
       "972067    All good ,near to sub way.<br/>Next time I’ll ...\n",
       "972068    Um bom preço pago a esse espaço. Atende as nec...\n",
       "972069    My stay at Andrea's place was truly amazing. <...\n",
       "972070    Loved our stay at Andrea’s place and would sta...\n",
       "972071    I came into the city for work and needed to st...\n",
       "Name: comments, Length: 972072, dtype: object"
      ]
     },
     "execution_count": 7,
     "metadata": {},
     "output_type": "execute_result"
    }
   ],
   "source": [
    "df['comments']"
   ]
  },
  {
   "cell_type": "code",
   "execution_count": 12,
   "metadata": {},
   "outputs": [],
   "source": [
    "text = df['comments'].iloc[1]"
   ]
  },
  {
   "cell_type": "code",
   "execution_count": 13,
   "metadata": {},
   "outputs": [],
   "source": [
    "import nltk "
   ]
  },
  {
   "cell_type": "code",
   "execution_count": 4,
   "metadata": {},
   "outputs": [
    {
     "data": {
      "text/plain": [
       "'3.8.1'"
      ]
     },
     "execution_count": 4,
     "metadata": {},
     "output_type": "execute_result"
    }
   ],
   "source": [
    "# nltk.__version__ #'3.8.1'"
   ]
  },
  {
   "cell_type": "code",
   "execution_count": 5,
   "metadata": {},
   "outputs": [
    {
     "name": "stdout",
     "output_type": "stream",
     "text": [
      "showing info https://raw.githubusercontent.com/nltk/nltk_data/gh-pages/index.xml\n"
     ]
    },
    {
     "data": {
      "text/plain": [
       "True"
      ]
     },
     "execution_count": 5,
     "metadata": {},
     "output_type": "execute_result"
    }
   ],
   "source": [
    "# nltk.download()"
   ]
  },
  {
   "cell_type": "code",
   "execution_count": 14,
   "metadata": {},
   "outputs": [
    {
     "name": "stdout",
     "output_type": "stream",
     "text": [
      "*** Introductory Examples for the NLTK Book ***\n",
      "Loading text1, ..., text9 and sent1, ..., sent9\n",
      "Type the name of the text or sentence to view it.\n",
      "Type: 'texts()' or 'sents()' to list the materials.\n",
      "text1: Moby Dick by Herman Melville 1851\n",
      "text2: Sense and Sensibility by Jane Austen 1811\n",
      "text3: The Book of Genesis\n",
      "text4: Inaugural Address Corpus\n",
      "text5: Chat Corpus\n",
      "text6: Monty Python and the Holy Grail\n",
      "text7: Wall Street Journal\n",
      "text8: Personals Corpus\n",
      "text9: The Man Who Was Thursday by G . K . Chesterton 1908\n"
     ]
    }
   ],
   "source": [
    "# from nltk.book import * #nltk 다운로드 목록 "
   ]
  },
  {
   "cell_type": "code",
   "execution_count": 17,
   "metadata": {},
   "outputs": [],
   "source": [
    "import this\n",
    "\n",
    "\n",
    "text_sample = text\n"
   ]
  },
  {
   "cell_type": "code",
   "execution_count": 18,
   "metadata": {},
   "outputs": [
    {
     "name": "stderr",
     "output_type": "stream",
     "text": [
      "[nltk_data] Downloading package punkt to\n",
      "[nltk_data]     C:\\Users\\Master\\AppData\\Roaming\\nltk_data...\n",
      "[nltk_data]   Package punkt is already up-to-date!\n"
     ]
    },
    {
     "data": {
      "text/plain": [
       "True"
      ]
     },
     "execution_count": 18,
     "metadata": {},
     "output_type": "execute_result"
    }
   ],
   "source": [
    "import nltk\n",
    "nltk.download('punkt')"
   ]
  },
  {
   "cell_type": "code",
   "execution_count": 19,
   "metadata": {},
   "outputs": [
    {
     "name": "stdout",
     "output_type": "stream",
     "text": [
      "6\n",
      "Great guy with a basic room.\n"
     ]
    },
    {
     "data": {
      "text/plain": [
       "['Great guy with a basic room.',\n",
       " 'Clean sheets and towels.',\n",
       " 'No hangs-ups, come and go as you please.',\n",
       " 'The neighborhood was fine, mix of everybody.',\n",
       " 'Came back around 3am one night without any problems.',\n",
       " 'The place is not immaculate, but neat.']"
      ]
     },
     "execution_count": 19,
     "metadata": {},
     "output_type": "execute_result"
    }
   ],
   "source": [
    "# sent_tokenize() : 문장단위로 나눠준다.\n",
    "# word_tokenize() : 단어단위로 나눠준다.\n",
    "# regexp_tokenize() : 토큰의 단위를 정규표현식으로 지정\n",
    "# 반환타입 : 토큰하나 하나를 원소로 하는 list\n",
    "\n",
    "\n",
    "sentences = nltk.sent_tokenize(text_sample) # 구분자 :\".\"\n",
    "print(len(sentences))\n",
    "print(sentences[0])\n",
    "sentences"
   ]
  },
  {
   "cell_type": "code",
   "execution_count": 20,
   "metadata": {},
   "outputs": [
    {
     "name": "stdout",
     "output_type": "stream",
     "text": [
      "50\n"
     ]
    },
    {
     "data": {
      "text/plain": [
       "['Great',\n",
       " 'guy',\n",
       " 'with',\n",
       " 'a',\n",
       " 'basic',\n",
       " 'room',\n",
       " '.',\n",
       " 'Clean',\n",
       " 'sheets',\n",
       " 'and',\n",
       " 'towels',\n",
       " '.',\n",
       " 'No',\n",
       " 'hangs-ups',\n",
       " ',',\n",
       " 'come',\n",
       " 'and',\n",
       " 'go',\n",
       " 'as',\n",
       " 'you',\n",
       " 'please',\n",
       " '.',\n",
       " 'The',\n",
       " 'neighborhood',\n",
       " 'was',\n",
       " 'fine',\n",
       " ',',\n",
       " 'mix',\n",
       " 'of',\n",
       " 'everybody',\n",
       " '.',\n",
       " 'Came',\n",
       " 'back',\n",
       " 'around',\n",
       " '3am',\n",
       " 'one',\n",
       " 'night',\n",
       " 'without',\n",
       " 'any',\n",
       " 'problems',\n",
       " '.',\n",
       " 'The',\n",
       " 'place',\n",
       " 'is',\n",
       " 'not',\n",
       " 'immaculate',\n",
       " ',',\n",
       " 'but',\n",
       " 'neat',\n",
       " '.']"
      ]
     },
     "execution_count": 20,
     "metadata": {},
     "output_type": "execute_result"
    }
   ],
   "source": [
    "words = nltk.word_tokenize(text_sample) # 구분자: 공백, 구두점도 하나의 토큰 분리.\n",
    "print(len(words))\n",
    "words"
   ]
  },
  {
   "cell_type": "code",
   "execution_count": 21,
   "metadata": {},
   "outputs": [
    {
     "name": "stdout",
     "output_type": "stream",
     "text": [
      "42\n"
     ]
    },
    {
     "data": {
      "text/plain": [
       "['Great',\n",
       " 'guy',\n",
       " 'with',\n",
       " 'a',\n",
       " 'basic',\n",
       " 'room',\n",
       " 'Clean',\n",
       " 'sheets',\n",
       " 'and',\n",
       " 'towels',\n",
       " 'No',\n",
       " 'hangs',\n",
       " 'ups',\n",
       " 'come',\n",
       " 'and',\n",
       " 'go',\n",
       " 'as',\n",
       " 'you',\n",
       " 'please',\n",
       " 'The',\n",
       " 'neighborhood',\n",
       " 'was',\n",
       " 'fine',\n",
       " 'mix',\n",
       " 'of',\n",
       " 'everybody',\n",
       " 'Came',\n",
       " 'back',\n",
       " 'around',\n",
       " '3am',\n",
       " 'one',\n",
       " 'night',\n",
       " 'without',\n",
       " 'any',\n",
       " 'problems',\n",
       " 'The',\n",
       " 'place',\n",
       " 'is',\n",
       " 'not',\n",
       " 'immaculate',\n",
       " 'but',\n",
       " 'neat']"
      ]
     },
     "execution_count": 21,
     "metadata": {},
     "output_type": "execute_result"
    }
   ],
   "source": [
    "reg_tokens = nltk.regexp_tokenize(text_sample, '\\w+') #토큰의 패턴을 정규표현식으로 지정.  \\w 글자,숫자,공백\n",
    "print(len(reg_tokens))\n",
    "reg_tokens"
   ]
  },
  {
   "cell_type": "code",
   "execution_count": 22,
   "metadata": {},
   "outputs": [
    {
     "name": "stderr",
     "output_type": "stream",
     "text": [
      "[nltk_data] Downloading package stopwords to\n",
      "[nltk_data]     C:\\Users\\Master\\AppData\\Roaming\\nltk_data...\n",
      "[nltk_data]   Package stopwords is already up-to-date!\n"
     ]
    },
    {
     "data": {
      "text/plain": [
       "['arabic',\n",
       " 'azerbaijani',\n",
       " 'basque',\n",
       " 'bengali',\n",
       " 'catalan',\n",
       " 'chinese',\n",
       " 'danish',\n",
       " 'dutch',\n",
       " 'english',\n",
       " 'finnish',\n",
       " 'french',\n",
       " 'german',\n",
       " 'greek',\n",
       " 'hebrew',\n",
       " 'hinglish',\n",
       " 'hungarian',\n",
       " 'indonesian',\n",
       " 'italian',\n",
       " 'kazakh',\n",
       " 'nepali',\n",
       " 'norwegian',\n",
       " 'portuguese',\n",
       " 'romanian',\n",
       " 'russian',\n",
       " 'slovene',\n",
       " 'spanish',\n",
       " 'swedish',\n",
       " 'tajik',\n",
       " 'turkish']"
      ]
     },
     "execution_count": 22,
     "metadata": {},
     "output_type": "execute_result"
    }
   ],
   "source": [
    "#불용어 stopword\n",
    "#문장내에서는 많이 사용되지만 문장의 전체 맥락(내용/뜻)과는 상관없는 단어들.\n",
    "\n",
    "\n",
    "from nltk.corpus import stopwords\n",
    "nltk.download('stopwords')\n",
    "\n",
    "\n",
    "stopwords.fileids()"
   ]
  },
  {
   "cell_type": "code",
   "execution_count": 23,
   "metadata": {},
   "outputs": [
    {
     "data": {
      "text/plain": [
       "(179, list)"
      ]
     },
     "execution_count": 23,
     "metadata": {},
     "output_type": "execute_result"
    }
   ],
   "source": [
    "# 영어 불용어\n",
    "eng_stopwords = stopwords.words('english')\n",
    "len(eng_stopwords), type(eng_stopwords)"
   ]
  },
  {
   "cell_type": "code",
   "execution_count": 17,
   "metadata": {},
   "outputs": [
    {
     "data": {
      "text/plain": [
       "['i', 'me', 'my', 'myself', 'we', 'our', 'ours', 'ourselves', 'you', \"you're\"]"
      ]
     },
     "execution_count": 17,
     "metadata": {},
     "output_type": "execute_result"
    }
   ],
   "source": [
    "eng_stopwords[:10]"
   ]
  },
  {
   "cell_type": "code",
   "execution_count": 24,
   "metadata": {},
   "outputs": [],
   "source": [
    "import nltk\n",
    "from nltk.corpus import stopwords\n",
    "\n",
    "def tokenize_text(text):\n",
    "    # 받은 문장을 소문자로 변환\n",
    "    text = text.lower() #string.lower() 소문자로 변환. string.upper() 대문자로 변환\n",
    "\n",
    "    # 문장단위로 토큰화\n",
    "    sentence_tokens = nltk.sent_tokenize(text)\n",
    "\n",
    "    # 불용어 객체 생성\n",
    "    stop_words = stopwords.words('english')\n",
    "    stop_words.extend(['although','unless', 'may']) #불용어 객체 추가\n",
    "\n",
    "    # 반복문을 이용해 문장별로 word 단위 토큰화 실행\n",
    "    word_token_list = [] # 최종 결과를 저장할 리스트\n",
    "    for sentence in sentence_tokens:\n",
    "        word_token_gen = nltk.regexp_tokenize(sentence, '[A-Za-z]+')  # \\w: 일반문자, 숫자, 공백\n",
    "        #불용어 제거\n",
    "        word_token = [word for word in word_token_gen if word not in stop_words]\n",
    "\n",
    "        word_token_list.append(word_token)\n",
    "\n",
    "    return word_token_list"
   ]
  },
  {
   "cell_type": "code",
   "execution_count": 25,
   "metadata": {},
   "outputs": [
    {
     "data": {
      "text/plain": [
       "[['great', 'guy', 'basic', 'room'],\n",
       " ['clean', 'sheets', 'towels'],\n",
       " ['hangs', 'ups', 'come', 'go', 'please'],\n",
       " ['neighborhood', 'fine', 'mix', 'everybody'],\n",
       " ['came', 'back', 'around', 'one', 'night', 'without', 'problems'],\n",
       " ['place', 'immaculate', 'neat']]"
      ]
     },
     "execution_count": 25,
     "metadata": {},
     "output_type": "execute_result"
    }
   ],
   "source": [
    "tokens = tokenize_text(text_sample)\n",
    "tokens"
   ]
  },
  {
   "cell_type": "code",
   "execution_count": 26,
   "metadata": {},
   "outputs": [
    {
     "data": {
      "text/plain": [
       "'Great guy with a basic room. Clean sheets and towels. No hangs-ups, come and go as you please. The neighborhood was fine, mix of everybody. Came back around 3am one night without any problems. The place is not immaculate, but neat.'"
      ]
     },
     "execution_count": 26,
     "metadata": {},
     "output_type": "execute_result"
    }
   ],
   "source": [
    "text"
   ]
  }
 ],
 "metadata": {
  "kernelspec": {
   "display_name": "base",
   "language": "python",
   "name": "python3"
  },
  "language_info": {
   "codemirror_mode": {
    "name": "ipython",
    "version": 3
   },
   "file_extension": ".py",
   "mimetype": "text/x-python",
   "name": "python",
   "nbconvert_exporter": "python",
   "pygments_lexer": "ipython3",
   "version": "3.11.7"
  }
 },
 "nbformat": 4,
 "nbformat_minor": 2
}
