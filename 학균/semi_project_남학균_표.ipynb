{
 "cells": [
  {
   "cell_type": "code",
   "execution_count": 56,
   "metadata": {},
   "outputs": [],
   "source": [
    "# 조건으로 검색하기\n",
    "\n",
    "import numpy as np\n",
    "import pandas as pd\n",
    "import matplotlib.pyplot as plt"
   ]
  },
  {
   "cell_type": "code",
   "execution_count": 57,
   "metadata": {},
   "outputs": [],
   "source": [
    "dat = pd.read_csv(\"./data/2019_1인가구.csv\", encoding='cp949') ; dat\n",
    "dat_2019 = dat.copy()"
   ]
  },
  {
   "cell_type": "code",
   "execution_count": 60,
   "metadata": {},
   "outputs": [],
   "source": [
    "## [데이터 필요한 행만 전처리] \n",
    "\n",
    "dat_2019.rename(columns={\n",
    "    '가계지출금액' : '전체소비지출','가계지출_소비지출금액' : '소비지출','가계지출_소비지출_식료품비주류음료구입비' : '식료품음료구입',\n",
    "    '가계지출_소비지출_식료품비주류음료_곡물구입비' : '식료품_곡물구입','가계지출_소비지출_식료품비주류음료_곡물가공품구입비' : '식료품_곡물가공품구입',\n",
    "    '가계지출_소비지출_식료품비주류음료_빵떡류구입비' : '식료품_빵떡류구입','가계지출_소비지출_식료품비주류음료_육류구입비' : '식료품_육류구입',\n",
    "    '가계지출_소비지출_식료품비주류음료_육류가공품구입비' : '식료품_육류가공품구입','가계지출_소비지출_식료품비주류음료_신선수산동물구입비' : '식료품_신선수산동물구입',\n",
    "    '가계지출_소비지출_식료품비주류음료_염건수산동물구입비' : '식료품_염건수산동물구입','가계지출_소비지출_식료품비주류음료_기타수산동물가공구입비' : '식료품_기타수산동물가공구입',\n",
    "    '가계지출_소비지출_식료품비주류음료_유제품및알구입비' : '식료품_유제품알구입','가계지출_소비지출_식료품비주류음료_유지류구입비' : '식료품_유지류구입',\n",
    "    '가계지출_소비지출_식료품비주류음료_과일가공품구입비' : '식료품_과일가공품구입','가계지출_소비지출_식료품비주류음료_채소가공품구입비' : '식료품_채소가공품구입',\n",
    "    '가계지출_소비지출_식료품비주류음료_해조가공품구입비' : '식료품_해조가공품구입','가계지출_소비지출_식료품비주류음료_당류과자류구입비' : '식료품_당류과자류구입',\n",
    "    '가계지출_소비지출_식료품비주류음료_조미식품구입비' : '식료품_조미식품구입','가계지출_소비지출_식료품비주류음료_기타식품구입비' : '식료품_기타식품구입',\n",
    "    '가계지출_소비지출_식료품비주류음료_커피차구입비' : '식료품_커피차구입','가계지출_소비지출_식료품비주류음료_쥬스기타음료구입비' : '식료품_쥬스음료구입',\n",
    "    '가계지출_소비지출_주류담배구입비' : '주류담배구입','가계지출_소비지출_주류담배_주류구입비' : '주류구입','가계지출_소비지출_주류담배_담배구입비' : '담배구입',\n",
    "    '가계지출_소비지출_의류신발구입비' : '의류신발구입','가계지출_소비지출_의류신발_직물및외의구입비' : '의류신발_직물및외의구입','가계지출_소비지출_의류신발_내의구입비' : '의류신발_내의구입',\n",
    "    '가계지출_소비지출_의류신발_기타의복구입비' : '의류신발_기타의복구입','가계지출_소비지출_의류신발_의복관련서비스구입비' : '의류신발_의복관련서비스구입',\n",
    "    '가계지출_소비지출_의류신발_신발구입비' : '의류신발_신발구입','가계지출_소비지출_의류신발_신발서비스구입비' : '의류신발_신발서비스구입','가계지출_소비지출_주거수도광열비' : '주거수도광열비',\n",
    "    '가계지출_소비지출_주거수도광열_실제주거비구입비' : '주거수도광열_실제주거비구입','가계지출_소비지출_주거수도광열_주택유지수선구입비' : '주거수도광열_주택유지수선구입',\n",
    "    '가계지출_소비지출_주거수도광열_상하수도폐기물처리비' : '주거수도광열_상하수도폐기물처리','가계지출_소비지출_주거수도광열_기타주거관련서비스구입비' : '주거수도광열_기타주거관련서비스구입',\n",
    "    '가계지출_소비지출_주거수도광열_연료비구입비' : '주거수도광열_연료비구입','가계지출_소비지출_가정용품가사서비스이용금액' : '가정용품가사서비스이용',\n",
    "    '가계지출_소비지출_가정용품가사서비스_가구조명구입비' : '가정용품가사서비스_가구조명구입','가계지출_소비지출_가정용품가사서비스_실내장식구입비' : '가정용품가사서비스_실내장식구입',\n",
    "    '가계지출_소비지출_가정용품가사서비스_가구조명장식서비스이용금액' : '가정용품가사서비스_가구조명장식서비스이용',\n",
    "    '가계지출_소비지출_가정용품가사서비스_가정용섬유구입비' : '가정용품가사서비스_가정용섬유구입','가계지출_소비지출_가정용품가사서비스_가전가정용기기구입비' : '가정용품가사서비스_가전가정용기기구입',\n",
    "    '가계지출_소비지출_가정용품가사서비스_가전관련서비스이용금액' : '가정용품가사서비스_가전관련서비스이용','가계지출_소비지출_가정용품가사서비스_가사용품구입비' : '가정용품가사서비스_가사용품구입',\n",
    "    '가계지출_소비지출_가정용품가사서비스_가정용공구기타구입비' : '가정용품가사서비스_가정용공구기타구입','가계지출_소비지출_가정용품가사서비스_가사소모품구입비' : '가정용품가사서비스_가사소모품구입',\n",
    "    '가계지출_소비지출_가정용품가사서비스_가사서비스금액' : '가정용품가사서비스_가사서비스','가계지출_소비지출_보건제품구입비' : '보건제품구입',\n",
    "    '가계지출_소비지출_보건_의약품구입비' : '보건_의약품구입','가계지출_소비지출_보건_의료용소모품구입비' : '보건_의료용소모품구입',\n",
    "    '가계지출_소비지출_보건_보건의료용품기구구입비' : '보건_보건의료용품기구구입','가계지출_소비지출_보건_외래의료서비스이용금액' : '보건_외래의료서비스이용',\n",
    "    '가계지출_소비지출_보건_치과서비스이용금액' : '보건_치과서비스이용','가계지출_소비지출_보건_기타의료서비스이용금액' : '보건_기타의료서비스이용',\n",
    "    '가계지출_소비지출_보건_입원서비스이용금액' : '보건_입원서비스이용','가계지출_소비지출_교통비' : '교통비','가계지출_소비지출_교통_자동차구입비' : '교통_자동차구입',\n",
    "    '가계지출_소비지출_교통_기타운송기구구입비' : '교통_기타운송기구구입','가계지출_소비지출_교통_운송기구유지수리비' : '교통_운송기구유지수리',\n",
    "    '가계지출_소비지출_교통_운송기구연료비' : '교통_운송기구연료','가계지출_소비지출_교통_기타개인교통서비스이용금액' : '교통_기타개인교통서비스이용',\n",
    "    '가계지출_소비지출_교통_철도운송금액' : '교통_철도운송','가계지출_소비지출_교통_육상운송금액' : '교통_육상운송','가계지출_소비지출_교통_기타운송금액' : '교통_기타운송',\n",
    "    '가계지출_소비지출_교통_기타교통관련서비스이용금액' : '교통_기타교통관련서비스이용','가계지출_소비지출_통신비' : '통신비','가계지출_소비지출_통신_우편서비스이용금액' : '통신_우편서비스이용',\n",
    "    '가계지출_소비지출_통신_통신장비구입비' : '통신_통신장비구입','가계지출_소비지출_통신_통신서비스이용금액' : '통신_통신서비스이용','가계지출_소비지출_오락문화비' : '오락문화비',\n",
    "    '가계지출_소비지출_오락문화_영상음향기기구입비' : '오락문화_영상음향기기구입','가계지출_소비지출_오락문화_사진광학장비구입비' : '오락문화_사진광학장비구입',\n",
    "    '가계지출_소비지출_오락문화_정보처리장치구입비' : '오락문화_정보처리장치구입','가계지출_소비지출_오락문화_기록매체구입비' : '오락문화_기록매체구입',\n",
    "    '가계지출_소비지출_오락문화_영상음향정보기기수리비' : '오락문화_영상음향정보기기수리','가계지출_소비지출_오락문화_내구재구입비' : '오락문화_내구재구입',\n",
    "    '가계지출_소비지출_오락문화_악기기구구입비' : '오락문화_악기기구구입','가계지출_소비지출_오락문화_오락문화내구재유지수리비' : '오락문화_오락문화내구재유지수리',\n",
    "    '가계지출_소비지출_오락문화_장난감취미용품구입비' : '오락문화_장난감취미용품구입','가계지출_소비지출_오락문화_캠핑운동관련용품구입비' : '오락문화_캠핑운동관련용품구입',\n",
    "    '가계지출_소비지출_오락문화_화훼관련용품구입비' : '오락문화_화훼관련용품구입','가계지출_소비지출_오락문화_애완동물관련물품구입비' : '애완동물_물품구입',\n",
    "    '가계지출_소비지출_오락문화_화훼애완동물서비스이용금액' : '애완동물_서비스이용','가계지출_소비지출_오락문화_운동오락서비스이용금액' : '운동오락_서비스이용',\n",
    "    '가계지출_소비지출_오락문화_문화서비스이용금액' : '문화_서비스이용','가계지출_소비지출_오락문화_복권구입비' : '복권_구입비','가계지출_소비지출_오락문화_서적구입비' : '서적_구입비',\n",
    "    '가계지출_소비지출_오락문화_기타인쇄물구입비' : '인쇄물_구입비','가계지출_소비지출_오락문화_문구구입비' : '문구_구입비','가계지출_소비지출_오락문화_단체여행경비' : '단체여행_경비',\n",
    "    '가계지출_소비지출_교육비' : '교육비','가계지출_소비지출_교육_정규교육비' : '정규교육비','가계지출_소비지출_교육_초등교육비' : '초등교육비','가계지출_소비지출_교육_중등교육비' : '중등교육비',\n",
    "    '가계지출_소비지출_교육_고등교육비' : '고등교육비','가계지출_소비지출_교육_학원보습교육비' : '학원보습교육비','가계지출_소비지출_교육_학생학원교육비' : '학생학원교육비',\n",
    "    '가계지출_소비지출_교육_성인학원비' : '성인학원비','가계지출_소비지출_교육_기타교육비' : '기타교육비','가계지출_소비지출_음식숙박비' : '음식숙박비','가계지출_소비지출_음식숙박_식대' : '식대',\n",
    "    '가계지출_소비지출_음식숙박_숙박비' : '숙박비','가계지출_소비지출_기타상품서비스이용금액' : '기타상품서비스이용','가계지출_소비지출_기타상품서비스_이미용서비스이용금액' : '이미용서비스이용',\n",
    "    '가계지출_소비지출_기타상품서비스_이미용기기구입비' : '이미용기기구입','가계지출_소비지출_기타상품서비스_위생이미용용품구입비' : '위생이미용용품구입',\n",
    "    '가계지출_소비지출_기타상품서비스_시계장신구구입비' : '시계장신구구입','가계지출_소비지출_기타상품서비스_기타개인용품구입비' : '기타개인용품구입',\n",
    "    '가계지출_소비지출_기타상품서비스_복지시설비용금액' : '복지시설비용','가계지출_소비지출_기타상품서비스_보험료' : '보험료','가계지출_소비지출_기타상품서비스_기타금융구입비' : '기타금융구입',\n",
    "    '가계지출_소비지출_기타상품서비스_기타서비스금액구입비' : '기타서비스금액구입','가계지출_비소비지출금액' : '비소비지출금액','가계지출_비소비지출_경상조세' : '비경상조세',\n",
    "    '가계지출_비소비지출_비경상조세' : '비경상조세','가계지출_비소비지출_연금기여금' : '연금기여금','가계지출_비소비지출_사회보장구입비' : '사회보장구입비',\n",
    "    '가계지출_비소비지출_이자비용' : '이자비용','가계지출_비소비지출_가구간이전지출금액' : '가구간이전지출금액','가계지출_비소비지출_비영리단체이전지출금액' : '비영리단체이전지출금액'\n",
    "}, inplace=True\n",
    ")"
   ]
  },
  {
   "cell_type": "code",
   "execution_count": 61,
   "metadata": {},
   "outputs": [
    {
     "data": {
      "text/plain": [
       "Index(['조사연월', '가구일련번호', '가구구분코드', '가구원수', '취업인원수', '노인가구여부', '배우자코드',\n",
       "       '가구주_성별코드', '가구주_연령', '가구주_취업여부',\n",
       "       ...\n",
       "       '기타서비스금액구입', '비소비지출금액', '비경상조세', '비경상조세', '연금기여금', '사회보장구입비', '이자비용',\n",
       "       '가구간이전지출금액', '비영리단체이전지출금액', '도시읍면부구분코드'],\n",
       "      dtype='object', length=139)"
      ]
     },
     "execution_count": 61,
     "metadata": {},
     "output_type": "execute_result"
    }
   ],
   "source": [
    "dat_2019.columns"
   ]
  },
  {
   "cell_type": "code",
   "execution_count": 62,
   "metadata": {},
   "outputs": [],
   "source": [
    "# 행 전처리\n",
    "\n",
    "dat_2019 = dat_2019[['조사연월', '가구일련번호', '가구구분코드', '가구원수', '취업인원수', '노인가구여부', '배우자코드', '가구주_성별코드', '가구주_연령', '가구주_취업여부', '거처구분코드',\n",
    "                     '자동차보유대수','입주형태코드', '월세평가금액', '전세보증금', '소득구간코드', '전체소비지출', '소비지출','식료품음료구입','식료품_곡물구입',\n",
    "                     '식료품_곡물가공품구입','식료품_빵떡류구입','식료품_육류구입','식료품_육류가공품구입','식료품_신선수산동물구입','식료품_염건수산동물구입','식료품_기타수산동물가공구입',\n",
    "                     '식료품_유제품알구입','식료품_유지류구입','식료품_과일가공품구입','식료품_채소가공품구입','식료품_해조가공품구입','식료품_당류과자류구입','식료품_조미식품구입',\n",
    "                     '식료품_기타식품구입','식료품_커피차구입','식료품_쥬스음료구입','주류담배구입','주류구입','담배구입','의류신발구입','의류신발_직물및외의구입','의류신발_내의구입',\n",
    "                     '의류신발_기타의복구입','의류신발_의복관련서비스구입','의류신발_신발구입','의류신발_신발서비스구입','주거수도광열비','주거수도광열_실제주거비구입',\n",
    "                     '주거수도광열_주택유지수선구입','주거수도광열_상하수도폐기물처리','주거수도광열_기타주거관련서비스구입','주거수도광열_연료비구입','가정용품가사서비스이용',\n",
    "                     '가정용품가사서비스_가구조명구입','가정용품가사서비스_실내장식구입','가정용품가사서비스_가구조명장식서비스이용','가정용품가사서비스_가정용섬유구입',\n",
    "                     '가정용품가사서비스_가전가정용기기구입','가정용품가사서비스_가전관련서비스이용','가정용품가사서비스_가사용품구입','가정용품가사서비스_가정용공구기타구입',\n",
    "                     '가정용품가사서비스_가사소모품구입','가정용품가사서비스_가사서비스','보건제품구입','보건_의약품구입','보건_의료용소모품구입','보건_보건의료용품기구구입',\n",
    "                     '보건_외래의료서비스이용','보건_치과서비스이용','보건_기타의료서비스이용','보건_입원서비스이용','교통비','교통_자동차구입','교통_기타운송기구구입','교통_운송기구유지수리',\n",
    "                     '교통_운송기구연료','교통_기타개인교통서비스이용','교통_철도운송','교통_육상운송','교통_기타운송','교통_기타교통관련서비스이용','통신비','통신_우편서비스이용',\n",
    "                     '통신_통신장비구입','통신_통신서비스이용','오락문화비','오락문화_영상음향기기구입','오락문화_사진광학장비구입','오락문화_정보처리장치구입','오락문화_기록매체구입',\n",
    "                     '오락문화_영상음향정보기기수리','오락문화_내구재구입','오락문화_악기기구구입','오락문화_오락문화내구재유지수리','오락문화_장난감취미용품구입','오락문화_캠핑운동관련용품구입',\n",
    "                     '오락문화_화훼관련용품구입','애완동물_물품구입','애완동물_서비스이용','운동오락_서비스이용','문화_서비스이용','복권_구입비','서적_구입비','인쇄물_구입비','문구_구입비',\n",
    "                     '단체여행_경비','교육비','정규교육비','초등교육비','중등교육비','고등교육비','학원보습교육비','학생학원교육비','성인학원비','기타교육비','음식숙박비','식대','숙박비',\n",
    "                     '기타상품서비스이용','이미용서비스이용','이미용기기구입','위생이미용용품구입','시계장신구구입','기타개인용품구입','복지시설비용','보험료','기타금융구입','기타서비스금액구입',\n",
    "                     '비소비지출금액','비경상조세','비경상조세','연금기여금','사회보장구입비','이자비용','가구간이전지출금액','비영리단체이전지출금액']]"
   ]
  },
  {
   "cell_type": "code",
   "execution_count": 63,
   "metadata": {},
   "outputs": [],
   "source": [
    "dat_2019['가구구분코드'] = dat_2019['가구구분코드'].replace({1: '근로자 가구', 2: '비근로자 가구'})\n",
    "dat_2019['노인가구여부'] = dat_2019['노인가구여부'].replace({0: '아니요', 1: '예'})\n",
    "dat_2019['배우자코드'] = dat_2019['배우자코드'].replace({1: '현재(동거)', 2: '현재(비동거)', 3:'부재'})\n",
    "dat_2019['가구주_성별코드'] = dat_2019['가구주_성별코드'].replace({1: '남성', 2: '여성'})\n",
    "dat_2019['가구주_취업여부'] = dat_2019['가구주_취업여부'].replace({1: '취업', 2: '실업자'})\n",
    "dat_2019['거처구분코드'] = dat_2019['거처구분코드'].replace({1: '단독주택(다세대 포함)', 2: '아파트', 3: '연립주택', 4: '다가구주택', 5: '비주거용 건물', 6: '오피스텔', 7: '기타'})\n",
    "dat_2019['입주형태코드'] = dat_2019['입주형태코드'].replace({1: '내 집', 2: '무료주택', 3: '회사주택', 4: '임대', 5: '영구임대', 6: '보증금 월세', 7: '보증금 없는 월세'})\n",
    "dat_2019['소득구간코드'] = dat_2019['소득구간코드'].replace({1: '100만원 미만', 2: '100~200만원', 3: '200~300만원', 4: '300~400만원', 5: '400~500만원', 6: '500~600만원', 7: '600~700만원', 8: '700만원 이상'})\n",
    "# dat_2019['도시읍면부구분코드'] = dat_2019['도시읍면부구분코드'].replace({0: '비도시', 1: '도시'})\n"
   ]
  },
  {
   "cell_type": "code",
   "execution_count": 26,
   "metadata": {},
   "outputs": [
    {
     "data": {
      "text/html": [
       "<div>\n",
       "<style scoped>\n",
       "    .dataframe tbody tr th:only-of-type {\n",
       "        vertical-align: middle;\n",
       "    }\n",
       "\n",
       "    .dataframe tbody tr th {\n",
       "        vertical-align: top;\n",
       "    }\n",
       "\n",
       "    .dataframe thead th {\n",
       "        text-align: right;\n",
       "    }\n",
       "</style>\n",
       "<table border=\"1\" class=\"dataframe\">\n",
       "  <thead>\n",
       "    <tr style=\"text-align: right;\">\n",
       "      <th></th>\n",
       "      <th>조사연월</th>\n",
       "      <th>가구일련번호</th>\n",
       "      <th>가구구분코드</th>\n",
       "      <th>가구원수</th>\n",
       "      <th>취업인원수</th>\n",
       "      <th>노인가구여부</th>\n",
       "      <th>배우자코드</th>\n",
       "      <th>가구주_성별코드</th>\n",
       "      <th>가구주_연령</th>\n",
       "      <th>가구주_취업여부</th>\n",
       "      <th>...</th>\n",
       "      <th>비소비지출금액</th>\n",
       "      <th>비경상조세</th>\n",
       "      <th>비경상조세</th>\n",
       "      <th>비경상조세</th>\n",
       "      <th>비경상조세</th>\n",
       "      <th>연금기여금</th>\n",
       "      <th>사회보장구입비</th>\n",
       "      <th>이자비용</th>\n",
       "      <th>가구간이전지출금액</th>\n",
       "      <th>비영리단체이전지출금액</th>\n",
       "    </tr>\n",
       "  </thead>\n",
       "  <tbody>\n",
       "    <tr>\n",
       "      <th>0</th>\n",
       "      <td>201900</td>\n",
       "      <td>1</td>\n",
       "      <td>비근로자 가구</td>\n",
       "      <td>1</td>\n",
       "      <td>0</td>\n",
       "      <td>아니요</td>\n",
       "      <td>현재(비동거)</td>\n",
       "      <td>여성</td>\n",
       "      <td>64</td>\n",
       "      <td>실업자</td>\n",
       "      <td>...</td>\n",
       "      <td>99416</td>\n",
       "      <td>0</td>\n",
       "      <td>15190</td>\n",
       "      <td>0</td>\n",
       "      <td>15190</td>\n",
       "      <td>0</td>\n",
       "      <td>0</td>\n",
       "      <td>4893</td>\n",
       "      <td>50000</td>\n",
       "      <td>29333</td>\n",
       "    </tr>\n",
       "    <tr>\n",
       "      <th>1</th>\n",
       "      <td>201900</td>\n",
       "      <td>2</td>\n",
       "      <td>근로자 가구</td>\n",
       "      <td>3</td>\n",
       "      <td>2</td>\n",
       "      <td>아니요</td>\n",
       "      <td>현재(동거)</td>\n",
       "      <td>남성</td>\n",
       "      <td>63</td>\n",
       "      <td>취업</td>\n",
       "      <td>...</td>\n",
       "      <td>316357</td>\n",
       "      <td>37697</td>\n",
       "      <td>0</td>\n",
       "      <td>37697</td>\n",
       "      <td>0</td>\n",
       "      <td>0</td>\n",
       "      <td>110160</td>\n",
       "      <td>0</td>\n",
       "      <td>142500</td>\n",
       "      <td>26000</td>\n",
       "    </tr>\n",
       "    <tr>\n",
       "      <th>2</th>\n",
       "      <td>201900</td>\n",
       "      <td>3</td>\n",
       "      <td>비근로자 가구</td>\n",
       "      <td>1</td>\n",
       "      <td>0</td>\n",
       "      <td>아니요</td>\n",
       "      <td>부재</td>\n",
       "      <td>남성</td>\n",
       "      <td>58</td>\n",
       "      <td>실업자</td>\n",
       "      <td>...</td>\n",
       "      <td>9206</td>\n",
       "      <td>0</td>\n",
       "      <td>0</td>\n",
       "      <td>0</td>\n",
       "      <td>0</td>\n",
       "      <td>4050</td>\n",
       "      <td>3728</td>\n",
       "      <td>0</td>\n",
       "      <td>0</td>\n",
       "      <td>1429</td>\n",
       "    </tr>\n",
       "    <tr>\n",
       "      <th>3</th>\n",
       "      <td>201900</td>\n",
       "      <td>4</td>\n",
       "      <td>근로자 가구</td>\n",
       "      <td>3</td>\n",
       "      <td>2</td>\n",
       "      <td>아니요</td>\n",
       "      <td>현재(동거)</td>\n",
       "      <td>남성</td>\n",
       "      <td>29</td>\n",
       "      <td>취업</td>\n",
       "      <td>...</td>\n",
       "      <td>445731</td>\n",
       "      <td>71766</td>\n",
       "      <td>0</td>\n",
       "      <td>71766</td>\n",
       "      <td>0</td>\n",
       "      <td>245393</td>\n",
       "      <td>104001</td>\n",
       "      <td>4857</td>\n",
       "      <td>7143</td>\n",
       "      <td>12571</td>\n",
       "    </tr>\n",
       "    <tr>\n",
       "      <th>4</th>\n",
       "      <td>201900</td>\n",
       "      <td>5</td>\n",
       "      <td>근로자 가구</td>\n",
       "      <td>1</td>\n",
       "      <td>1</td>\n",
       "      <td>아니요</td>\n",
       "      <td>부재</td>\n",
       "      <td>여성</td>\n",
       "      <td>58</td>\n",
       "      <td>취업</td>\n",
       "      <td>...</td>\n",
       "      <td>359537</td>\n",
       "      <td>13844</td>\n",
       "      <td>0</td>\n",
       "      <td>13844</td>\n",
       "      <td>0</td>\n",
       "      <td>65571</td>\n",
       "      <td>50121</td>\n",
       "      <td>0</td>\n",
       "      <td>57143</td>\n",
       "      <td>172857</td>\n",
       "    </tr>\n",
       "    <tr>\n",
       "      <th>...</th>\n",
       "      <td>...</td>\n",
       "      <td>...</td>\n",
       "      <td>...</td>\n",
       "      <td>...</td>\n",
       "      <td>...</td>\n",
       "      <td>...</td>\n",
       "      <td>...</td>\n",
       "      <td>...</td>\n",
       "      <td>...</td>\n",
       "      <td>...</td>\n",
       "      <td>...</td>\n",
       "      <td>...</td>\n",
       "      <td>...</td>\n",
       "      <td>...</td>\n",
       "      <td>...</td>\n",
       "      <td>...</td>\n",
       "      <td>...</td>\n",
       "      <td>...</td>\n",
       "      <td>...</td>\n",
       "      <td>...</td>\n",
       "      <td>...</td>\n",
       "    </tr>\n",
       "    <tr>\n",
       "      <th>9505</th>\n",
       "      <td>201900</td>\n",
       "      <td>9506</td>\n",
       "      <td>비근로자 가구</td>\n",
       "      <td>4</td>\n",
       "      <td>2</td>\n",
       "      <td>아니요</td>\n",
       "      <td>현재(동거)</td>\n",
       "      <td>남성</td>\n",
       "      <td>37</td>\n",
       "      <td>취업</td>\n",
       "      <td>...</td>\n",
       "      <td>1538751</td>\n",
       "      <td>95328</td>\n",
       "      <td>0</td>\n",
       "      <td>95328</td>\n",
       "      <td>0</td>\n",
       "      <td>8370</td>\n",
       "      <td>142911</td>\n",
       "      <td>1075742</td>\n",
       "      <td>55000</td>\n",
       "      <td>161400</td>\n",
       "    </tr>\n",
       "    <tr>\n",
       "      <th>9506</th>\n",
       "      <td>201900</td>\n",
       "      <td>9507</td>\n",
       "      <td>비근로자 가구</td>\n",
       "      <td>4</td>\n",
       "      <td>3</td>\n",
       "      <td>아니요</td>\n",
       "      <td>현재(동거)</td>\n",
       "      <td>남성</td>\n",
       "      <td>59</td>\n",
       "      <td>취업</td>\n",
       "      <td>...</td>\n",
       "      <td>685210</td>\n",
       "      <td>8298</td>\n",
       "      <td>0</td>\n",
       "      <td>8298</td>\n",
       "      <td>0</td>\n",
       "      <td>0</td>\n",
       "      <td>47612</td>\n",
       "      <td>422300</td>\n",
       "      <td>181000</td>\n",
       "      <td>26000</td>\n",
       "    </tr>\n",
       "    <tr>\n",
       "      <th>9507</th>\n",
       "      <td>201900</td>\n",
       "      <td>9508</td>\n",
       "      <td>비근로자 가구</td>\n",
       "      <td>5</td>\n",
       "      <td>3</td>\n",
       "      <td>아니요</td>\n",
       "      <td>현재(동거)</td>\n",
       "      <td>남성</td>\n",
       "      <td>60</td>\n",
       "      <td>취업</td>\n",
       "      <td>...</td>\n",
       "      <td>1459269</td>\n",
       "      <td>96528</td>\n",
       "      <td>0</td>\n",
       "      <td>96528</td>\n",
       "      <td>0</td>\n",
       "      <td>174473</td>\n",
       "      <td>72436</td>\n",
       "      <td>304014</td>\n",
       "      <td>640909</td>\n",
       "      <td>170909</td>\n",
       "    </tr>\n",
       "    <tr>\n",
       "      <th>9508</th>\n",
       "      <td>201900</td>\n",
       "      <td>9509</td>\n",
       "      <td>근로자 가구</td>\n",
       "      <td>1</td>\n",
       "      <td>1</td>\n",
       "      <td>아니요</td>\n",
       "      <td>부재</td>\n",
       "      <td>남성</td>\n",
       "      <td>63</td>\n",
       "      <td>취업</td>\n",
       "      <td>...</td>\n",
       "      <td>117633</td>\n",
       "      <td>24609</td>\n",
       "      <td>0</td>\n",
       "      <td>24609</td>\n",
       "      <td>0</td>\n",
       "      <td>0</td>\n",
       "      <td>26887</td>\n",
       "      <td>0</td>\n",
       "      <td>65227</td>\n",
       "      <td>909</td>\n",
       "    </tr>\n",
       "    <tr>\n",
       "      <th>9509</th>\n",
       "      <td>201900</td>\n",
       "      <td>9510</td>\n",
       "      <td>비근로자 가구</td>\n",
       "      <td>2</td>\n",
       "      <td>2</td>\n",
       "      <td>예</td>\n",
       "      <td>현재(동거)</td>\n",
       "      <td>남성</td>\n",
       "      <td>78</td>\n",
       "      <td>취업</td>\n",
       "      <td>...</td>\n",
       "      <td>490845</td>\n",
       "      <td>39638</td>\n",
       "      <td>6035</td>\n",
       "      <td>39638</td>\n",
       "      <td>6035</td>\n",
       "      <td>0</td>\n",
       "      <td>0</td>\n",
       "      <td>5626</td>\n",
       "      <td>366364</td>\n",
       "      <td>73182</td>\n",
       "    </tr>\n",
       "  </tbody>\n",
       "</table>\n",
       "<p>9510 rows × 141 columns</p>\n",
       "</div>"
      ],
      "text/plain": [
       "        조사연월  가구일련번호   가구구분코드  가구원수  취업인원수 노인가구여부    배우자코드 가구주_성별코드  가구주_연령  \\\n",
       "0     201900       1  비근로자 가구     1      0    아니요  현재(비동거)       여성      64   \n",
       "1     201900       2   근로자 가구     3      2    아니요   현재(동거)       남성      63   \n",
       "2     201900       3  비근로자 가구     1      0    아니요       부재       남성      58   \n",
       "3     201900       4   근로자 가구     3      2    아니요   현재(동거)       남성      29   \n",
       "4     201900       5   근로자 가구     1      1    아니요       부재       여성      58   \n",
       "...      ...     ...      ...   ...    ...    ...      ...      ...     ...   \n",
       "9505  201900    9506  비근로자 가구     4      2    아니요   현재(동거)       남성      37   \n",
       "9506  201900    9507  비근로자 가구     4      3    아니요   현재(동거)       남성      59   \n",
       "9507  201900    9508  비근로자 가구     5      3    아니요   현재(동거)       남성      60   \n",
       "9508  201900    9509   근로자 가구     1      1    아니요       부재       남성      63   \n",
       "9509  201900    9510  비근로자 가구     2      2      예   현재(동거)       남성      78   \n",
       "\n",
       "     가구주_취업여부  ...  비소비지출금액  비경상조세  비경상조세  비경상조세  비경상조세   연금기여금  사회보장구입비  \\\n",
       "0         실업자  ...    99416      0  15190      0  15190       0        0   \n",
       "1          취업  ...   316357  37697      0  37697      0       0   110160   \n",
       "2         실업자  ...     9206      0      0      0      0    4050     3728   \n",
       "3          취업  ...   445731  71766      0  71766      0  245393   104001   \n",
       "4          취업  ...   359537  13844      0  13844      0   65571    50121   \n",
       "...       ...  ...      ...    ...    ...    ...    ...     ...      ...   \n",
       "9505       취업  ...  1538751  95328      0  95328      0    8370   142911   \n",
       "9506       취업  ...   685210   8298      0   8298      0       0    47612   \n",
       "9507       취업  ...  1459269  96528      0  96528      0  174473    72436   \n",
       "9508       취업  ...   117633  24609      0  24609      0       0    26887   \n",
       "9509       취업  ...   490845  39638   6035  39638   6035       0        0   \n",
       "\n",
       "         이자비용  가구간이전지출금액  비영리단체이전지출금액  \n",
       "0        4893      50000        29333  \n",
       "1           0     142500        26000  \n",
       "2           0          0         1429  \n",
       "3        4857       7143        12571  \n",
       "4           0      57143       172857  \n",
       "...       ...        ...          ...  \n",
       "9505  1075742      55000       161400  \n",
       "9506   422300     181000        26000  \n",
       "9507   304014     640909       170909  \n",
       "9508        0      65227          909  \n",
       "9509     5626     366364        73182  \n",
       "\n",
       "[9510 rows x 141 columns]"
      ]
     },
     "execution_count": 26,
     "metadata": {},
     "output_type": "execute_result"
    }
   ],
   "source": [
    "dat_2019"
   ]
  },
  {
   "cell_type": "code",
   "execution_count": 64,
   "metadata": {},
   "outputs": [
    {
     "data": {
      "text/plain": [
       "0          60대\n",
       "1          60대\n",
       "2          50대\n",
       "3          20대\n",
       "4          50대\n",
       "         ...  \n",
       "9505       30대\n",
       "9506       50대\n",
       "9507       60대\n",
       "9508       60대\n",
       "9509    70대 이상\n",
       "Name: 연령대, Length: 9510, dtype: object"
      ]
     },
     "execution_count": 64,
     "metadata": {},
     "output_type": "execute_result"
    }
   ],
   "source": [
    "def age(가구주_연령):\n",
    "    if 가구주_연령 < 20:\n",
    "        return '10대'\n",
    "    elif 20 <= 가구주_연령 < 30:\n",
    "        return '20대'\n",
    "    elif 30 <= 가구주_연령 < 40:\n",
    "        return '30대'\n",
    "    elif 40 <= 가구주_연령 < 50:\n",
    "        return '40대'\n",
    "    elif 50 <= 가구주_연령 < 60:\n",
    "        return '50대'\n",
    "    elif 60 <= 가구주_연령 < 70:\n",
    "        return '60대'\n",
    "    elif 70 <= 가구주_연령:\n",
    "        return '70대 이상'\n",
    "    \n",
    "# 데이터 연령대별 구분\n",
    "dat_2019.loc[:,'연령대'] = dat_2019['가구주_연령'].apply(age)\n",
    "dat_2019.연령대"
   ]
  },
  {
   "cell_type": "code",
   "execution_count": 85,
   "metadata": {},
   "outputs": [
    {
     "data": {
      "text/html": [
       "<div>\n",
       "<style scoped>\n",
       "    .dataframe tbody tr th:only-of-type {\n",
       "        vertical-align: middle;\n",
       "    }\n",
       "\n",
       "    .dataframe tbody tr th {\n",
       "        vertical-align: top;\n",
       "    }\n",
       "\n",
       "    .dataframe thead th {\n",
       "        text-align: right;\n",
       "    }\n",
       "</style>\n",
       "<table border=\"1\" class=\"dataframe\">\n",
       "  <thead>\n",
       "    <tr style=\"text-align: right;\">\n",
       "      <th>가구원수</th>\n",
       "      <th>1</th>\n",
       "      <th>2</th>\n",
       "      <th>3</th>\n",
       "      <th>4</th>\n",
       "      <th>5</th>\n",
       "      <th>6</th>\n",
       "      <th>7</th>\n",
       "      <th>8</th>\n",
       "    </tr>\n",
       "    <tr>\n",
       "      <th>연령대</th>\n",
       "      <th></th>\n",
       "      <th></th>\n",
       "      <th></th>\n",
       "      <th></th>\n",
       "      <th></th>\n",
       "      <th></th>\n",
       "      <th></th>\n",
       "      <th></th>\n",
       "    </tr>\n",
       "  </thead>\n",
       "  <tbody>\n",
       "    <tr>\n",
       "      <th>10대</th>\n",
       "      <td>17</td>\n",
       "      <td>1</td>\n",
       "      <td>0</td>\n",
       "      <td>0</td>\n",
       "      <td>0</td>\n",
       "      <td>0</td>\n",
       "      <td>0</td>\n",
       "      <td>0</td>\n",
       "    </tr>\n",
       "    <tr>\n",
       "      <th>20대</th>\n",
       "      <td>389</td>\n",
       "      <td>80</td>\n",
       "      <td>39</td>\n",
       "      <td>9</td>\n",
       "      <td>1</td>\n",
       "      <td>2</td>\n",
       "      <td>0</td>\n",
       "      <td>0</td>\n",
       "    </tr>\n",
       "    <tr>\n",
       "      <th>30대</th>\n",
       "      <td>286</td>\n",
       "      <td>219</td>\n",
       "      <td>291</td>\n",
       "      <td>290</td>\n",
       "      <td>56</td>\n",
       "      <td>5</td>\n",
       "      <td>1</td>\n",
       "      <td>0</td>\n",
       "    </tr>\n",
       "    <tr>\n",
       "      <th>40대</th>\n",
       "      <td>284</td>\n",
       "      <td>298</td>\n",
       "      <td>431</td>\n",
       "      <td>570</td>\n",
       "      <td>144</td>\n",
       "      <td>21</td>\n",
       "      <td>3</td>\n",
       "      <td>0</td>\n",
       "    </tr>\n",
       "    <tr>\n",
       "      <th>50대</th>\n",
       "      <td>474</td>\n",
       "      <td>776</td>\n",
       "      <td>570</td>\n",
       "      <td>323</td>\n",
       "      <td>53</td>\n",
       "      <td>8</td>\n",
       "      <td>0</td>\n",
       "      <td>1</td>\n",
       "    </tr>\n",
       "    <tr>\n",
       "      <th>60대</th>\n",
       "      <td>550</td>\n",
       "      <td>982</td>\n",
       "      <td>318</td>\n",
       "      <td>70</td>\n",
       "      <td>16</td>\n",
       "      <td>6</td>\n",
       "      <td>0</td>\n",
       "      <td>0</td>\n",
       "    </tr>\n",
       "    <tr>\n",
       "      <th>70대 이상</th>\n",
       "      <td>827</td>\n",
       "      <td>954</td>\n",
       "      <td>115</td>\n",
       "      <td>22</td>\n",
       "      <td>7</td>\n",
       "      <td>1</td>\n",
       "      <td>0</td>\n",
       "      <td>0</td>\n",
       "    </tr>\n",
       "  </tbody>\n",
       "</table>\n",
       "</div>"
      ],
      "text/plain": [
       "가구원수      1    2    3    4    5   6  7  8\n",
       "연령대                                      \n",
       "10대      17    1    0    0    0   0  0  0\n",
       "20대     389   80   39    9    1   2  0  0\n",
       "30대     286  219  291  290   56   5  1  0\n",
       "40대     284  298  431  570  144  21  3  0\n",
       "50대     474  776  570  323   53   8  0  1\n",
       "60대     550  982  318   70   16   6  0  0\n",
       "70대 이상  827  954  115   22    7   1  0  0"
      ]
     },
     "execution_count": 85,
     "metadata": {},
     "output_type": "execute_result"
    }
   ],
   "source": [
    "# 연령대별 가구원 수 분포\n",
    "dat_2019.groupby('연령대')['가구원수'].value_counts().unstack().fillna(0).astype(int)"
   ]
  },
  {
   "cell_type": "markdown",
   "metadata": {},
   "source": [
    "##### 전체가구 지출 (total_expend) | 1인가구 지출 (single_expend )"
   ]
  },
  {
   "cell_type": "markdown",
   "metadata": {},
   "source": [
    "전체가구 소비지출"
   ]
  },
  {
   "cell_type": "markdown",
   "metadata": {},
   "source": [
    "box plot 그려서 분포 확인해봐야 함"
   ]
  },
  {
   "cell_type": "code",
   "execution_count": 65,
   "metadata": {},
   "outputs": [
    {
     "data": {
      "text/plain": [
       "<bound method Series.info of 0        451464\n",
       "1       1468101\n",
       "2       1358773\n",
       "3       1166942\n",
       "4       5875488\n",
       "         ...   \n",
       "9505    3133653\n",
       "9506    2995655\n",
       "9507    5863909\n",
       "9508    1788251\n",
       "9509    1102741\n",
       "Name: 소비지출, Length: 9510, dtype: int64>"
      ]
     },
     "execution_count": 65,
     "metadata": {},
     "output_type": "execute_result"
    }
   ],
   "source": [
    "total_expend = dat_2019['소비지출']\n",
    "\n",
    "total_expend.info # 전체가구 소비지출"
   ]
  },
  {
   "cell_type": "markdown",
   "metadata": {},
   "source": [
    "--2차 전처리--\n",
    "\n",
    "전체가구 소비지출 이상치확인 (9,510개중 6,730개) <2,780개 이상치 식별>"
   ]
  },
  {
   "cell_type": "code",
   "execution_count": 67,
   "metadata": {},
   "outputs": [
    {
     "data": {
      "image/png": "[encoded data removed]",
      "text/plain": [
       "<Figure size 1000x800 with 1 Axes>"
      ]
     },
     "metadata": {},
     "output_type": "display_data"
    }
   ],
   "source": [
    "import matplotlib.pyplot as plt\n",
    "\n",
    "plt.rcParams[\"font.family\"] = \"Malgun Gothic\"\n",
    "\n",
    "plt.figure(figsize=(10, 8))  # 그림 크기 조정\n",
    "\n",
    "plt.boxplot(total_expend, showmeans=True)\n",
    "\n",
    "# 이상치 기준 라인을 그립니다.\n",
    "Q1 = np.percentile(total_expend, 25)\n",
    "Q3 = np.percentile(total_expend, 75)\n",
    "IQR = Q3 - Q1\n",
    "upper_limit = Q3 + 1.5 * IQR\n",
    "lower_limit = Q1 - 1.5 * IQR\n",
    "\n",
    "plt.axhline(y=upper_limit, color='r', linestyle='--', label='Upper Limit')\n",
    "plt.axhline(y=lower_limit, color='r', linestyle='--', label='Lower Limit')\n",
    "\n",
    "# 특정 값 출력\n",
    "plt.text(1.05, Q1, f'Q1: {Q1:,}원', verticalalignment='center', horizontalalignment='left')  # 오른쪽에 출력\n",
    "plt.text(0.95, Q3, f'Q3: {Q3:,}원', verticalalignment='center', horizontalalignment='right')  # 왼쪽에 출력\n",
    "plt.text(1, np.median(total_expend), f'Median: {np.median(total_expend):,}원', color='black', verticalalignment='center', horizontalalignment='left')  # 왼쪽에 출력\n",
    "plt.text(1, lower_limit, f'Min: {np.min(total_expend):,}원', verticalalignment='center', horizontalalignment='right')  # 왼쪽에 출력\n",
    "plt.text(1, upper_limit, f'Max: {np.max(total_expend):,}원', verticalalignment='center', horizontalalignment='right')  # 왼쪽에 출력\n",
    "\n",
    "plt.title('전체가구 소비지출')\n",
    "plt.xlabel('소비지출 금액')\n",
    "plt.yticks([])\n",
    "plt.legend()\n",
    "plt.show()\n",
    "\n",
    "import warnings\n",
    "warnings.filterwarnings(\"ignore\")\n"
   ]
  },
  {
   "cell_type": "code",
   "execution_count": 68,
   "metadata": {},
   "outputs": [
    {
     "data": {
      "image/png": "[encoded data removed]",
      "text/plain": [
       "<Figure size 1000x800 with 1 Axes>"
      ]
     },
     "metadata": {},
     "output_type": "display_data"
    }
   ],
   "source": [
    "# 이상치 제거\n",
    "cleaned_total_expend = total_expend[(total_expend >= lower_limit) & (total_expend <= upper_limit)]\n",
    "\n",
    "plt.figure(figsize=(10, 8))  # 그림 크기 조정\n",
    "\n",
    "plt.boxplot(cleaned_total_expend, showmeans=True)\n",
    "\n",
    "# 이상치 기준 라인을 그립니다.\n",
    "Q1 = np.percentile(cleaned_total_expend, 25)\n",
    "Q3 = np.percentile(cleaned_total_expend, 75)\n",
    "IQR = Q3 - Q1\n",
    "upper_limit = Q3 + 1.5 * IQR\n",
    "lower_limit = Q1 - 1.5 * IQR\n",
    "\n",
    "plt.axhline(y=upper_limit, color='r', linestyle='--', label='Upper Limit')\n",
    "plt.axhline(y=lower_limit, color='r', linestyle='--', label='Lower Limit')\n",
    "\n",
    "# 특정 값 출력\n",
    "plt.text(1.05, Q1, f'Q1: {Q1:,}원', verticalalignment='center', horizontalalignment='left') \n",
    "plt.text(0.95, Q3, f'Q3: {Q3:,}원', verticalalignment='center', horizontalalignment='right') \n",
    "plt.text(1, np.median(cleaned_total_expend), f'Median: {np.median(cleaned_total_expend):,}원', color='black', verticalalignment='center', horizontalalignment='left')\n",
    "plt.text(1, lower_limit, f'Min: {np.min(cleaned_total_expend):,}원', verticalalignment='center', horizontalalignment='right') \n",
    "plt.text(1, upper_limit, f'Max: {np.max(cleaned_total_expend):,}원', verticalalignment='center', horizontalalignment='right')  \n",
    "\n",
    "plt.title('전체가구 소비지출 (이상치 제거)')\n",
    "plt.xlabel('소비지출 금액')\n",
    "plt.yticks([])\n",
    "plt.legend()\n",
    "plt.show()\n"
   ]
  },
  {
   "cell_type": "code",
   "execution_count": 69,
   "metadata": {},
   "outputs": [
    {
     "name": "stdout",
     "output_type": "stream",
     "text": [
      "전체가구의 평균 소비지출: 2,294,545원\n"
     ]
    }
   ],
   "source": [
    "# 전체가구 평균 소비지출\n",
    "total_expend_mean = int(total_expend.mean())\n",
    "print(f\"전체가구의 평균 소비지출: {total_expend_mean:,}원\")"
   ]
  },
  {
   "cell_type": "markdown",
   "metadata": {},
   "source": [
    "1인가구 소비지출"
   ]
  },
  {
   "cell_type": "code",
   "execution_count": 72,
   "metadata": {},
   "outputs": [
    {
     "data": {
      "text/plain": [
       "<bound method Series.info of 0        451464\n",
       "2       1358773\n",
       "4       5875488\n",
       "5       1180308\n",
       "12       637191\n",
       "         ...   \n",
       "9499    2933981\n",
       "9500    1009745\n",
       "9501    1292380\n",
       "9504     694386\n",
       "9508    1788251\n",
       "Name: 소비지출, Length: 2827, dtype: int64>"
      ]
     },
     "execution_count": 72,
     "metadata": {},
     "output_type": "execute_result"
    }
   ],
   "source": [
    "# 가구원수 1로 설정하여 9510개에서 2827개의 데이터 전처리\n",
    "\n",
    "single_expend = dat_2019.loc[dat['가구원수'] == 1, '소비지출']\n",
    "\n",
    "single_expend.info # 1인가구 소비지출"
   ]
  },
  {
   "cell_type": "code",
   "execution_count": 73,
   "metadata": {},
   "outputs": [
    {
     "data": {
      "text/plain": [
       "0       False\n",
       "2       False\n",
       "4       False\n",
       "5       False\n",
       "12      False\n",
       "        ...  \n",
       "9499    False\n",
       "9500    False\n",
       "9501    False\n",
       "9504    False\n",
       "9508    False\n",
       "Name: 소비지출, Length: 2827, dtype: bool"
      ]
     },
     "execution_count": 73,
     "metadata": {},
     "output_type": "execute_result"
    }
   ],
   "source": [
    "# 1인가구 이상치 식별\n",
    "(single_expend < lower_limit) & (single_expend > upper_limit)"
   ]
  },
  {
   "cell_type": "markdown",
   "metadata": {},
   "source": [
    "-- 2차전처리 --\n",
    "\n",
    "* 1인가구 소비지출 이상치확인 (2827개중 2665개) <162개 이상치 식별>"
   ]
  },
  {
   "cell_type": "code",
   "execution_count": 74,
   "metadata": {},
   "outputs": [
    {
     "data": {
      "image/png": "[encoded data removed]",
      "text/plain": [
       "<Figure size 1000x800 with 1 Axes>"
      ]
     },
     "metadata": {},
     "output_type": "display_data"
    }
   ],
   "source": [
    "import matplotlib.pyplot as plt\n",
    "\n",
    "plt.rcParams[\"font.family\"] = \"Malgun Gothic\"\n",
    "\n",
    "plt.figure(figsize=(10, 8))  # 그림 크기 조정\n",
    "\n",
    "plt.boxplot(single_expend, showmeans=True)\n",
    "\n",
    "# 이상치 기준 라인을 그립니다.\n",
    "Q1 = np.percentile(single_expend, 25)\n",
    "Q3 = np.percentile(single_expend, 75)\n",
    "IQR = Q3 - Q1\n",
    "upper_limit = Q3 + 1.5 * IQR\n",
    "lower_limit = Q1 - 1.5 * IQR\n",
    "\n",
    "plt.axhline(y=upper_limit, color='r', linestyle='--', label='Upper Limit')\n",
    "plt.axhline(y=lower_limit, color='r', linestyle='--', label='Lower Limit')\n",
    "\n",
    "# 특정 값 출력\n",
    "plt.text(1.05, Q1, f'Q1: {Q1:,}원', verticalalignment='center', horizontalalignment='left')  # 오른쪽에 출력\n",
    "plt.text(0.95, Q3, f'Q3: {Q3:,}원', verticalalignment='center', horizontalalignment='right')  # 왼쪽에 출력\n",
    "plt.text(1, np.median(single_expend), f'Median: {np.median(total_expend):,}원', color='black', verticalalignment='center', horizontalalignment='left')  # 왼쪽에 출력\n",
    "plt.text(1, lower_limit, f'Min: {np.min(single_expend):,}원', verticalalignment='center', horizontalalignment='right')  # 왼쪽에 출력\n",
    "plt.text(1, upper_limit, f'Max: {np.max(single_expend):,}원', verticalalignment='center', horizontalalignment='right')  # 왼쪽에 출력\n",
    "\n",
    "plt.title('1인가구 소비지출')\n",
    "plt.xlabel('소비지출 금액')\n",
    "plt.yticks([])\n",
    "plt.legend()\n",
    "plt.show()\n",
    "\n",
    "import warnings\n",
    "warnings.filterwarnings(\"ignore\")\n"
   ]
  },
  {
   "cell_type": "code",
   "execution_count": 75,
   "metadata": {},
   "outputs": [
    {
     "data": {
      "image/png": "[encoded data removed]",
      "text/plain": [
       "<Figure size 1000x800 with 1 Axes>"
      ]
     },
     "metadata": {},
     "output_type": "display_data"
    }
   ],
   "source": [
    "# 이상치 제거\n",
    "cleaned_single_expend = single_expend[(single_expend >= lower_limit) & (single_expend <= upper_limit)]\n",
    "\n",
    "plt.figure(figsize=(10, 8))  # 그림 크기 조정\n",
    "\n",
    "plt.boxplot(cleaned_single_expend, showmeans=True)\n",
    "\n",
    "# 이상치 기준 라인을 그립니다.\n",
    "Q1 = np.percentile(cleaned_single_expend, 25)\n",
    "Q3 = np.percentile(cleaned_single_expend, 75)\n",
    "IQR = Q3 - Q1\n",
    "upper_limit = Q3 + 1.5 * IQR\n",
    "lower_limit = Q1 - 1.5 * IQR\n",
    "\n",
    "plt.axhline(y=upper_limit, color='r', linestyle='--', label='Upper Limit')\n",
    "plt.axhline(y=lower_limit, color='r', linestyle='--', label='Lower Limit')\n",
    "\n",
    "# 특정 값 출력\n",
    "plt.text(1.05, Q1, f'Q1: {Q1:,}원', verticalalignment='center', horizontalalignment='left') \n",
    "plt.text(0.95, Q3, f'Q3: {Q3:,}원', verticalalignment='center', horizontalalignment='right') \n",
    "plt.text(1, np.median(cleaned_single_expend), f'Median: {np.median(cleaned_single_expend):,}원', color='black', verticalalignment='center', horizontalalignment='left')\n",
    "plt.text(1, lower_limit, f'Min: {np.min(cleaned_single_expend):,}원', verticalalignment='center', horizontalalignment='right') \n",
    "plt.text(1, upper_limit, f'Max: {np.max(cleaned_single_expend):,}원', verticalalignment='center', horizontalalignment='right')  \n",
    "\n",
    "plt.title('1인가구 소비지출 (이상치 제거)')\n",
    "plt.xlabel('소비지출 금액')\n",
    "plt.yticks([])\n",
    "plt.legend()\n",
    "plt.show()\n"
   ]
  },
  {
   "cell_type": "code",
   "execution_count": 76,
   "metadata": {},
   "outputs": [
    {
     "name": "stdout",
     "output_type": "stream",
     "text": [
      "--------------------------------------------------\n",
      "1인가구의 평균 소비지출: 1,307,691원\n"
     ]
    }
   ],
   "source": [
    "# 1인가구 평균 소비지출\n",
    "single_expend_mean = int(single_expend.mean())\n",
    "print('-' * 50)\n",
    "print(f\"1인가구의 평균 소비지출: {single_expend_mean:,}원\")"
   ]
  },
  {
   "cell_type": "markdown",
   "metadata": {},
   "source": [
    "전체가구 식료품음료구입 평균소비 비용, 비율"
   ]
  },
  {
   "cell_type": "code",
   "execution_count": 77,
   "metadata": {},
   "outputs": [
    {
     "name": "stdout",
     "output_type": "stream",
     "text": [
      "0       153011\n",
      "1       300713\n",
      "2       171247\n",
      "3       155088\n",
      "4       311939\n",
      "         ...  \n",
      "9505    689222\n",
      "9506    657277\n",
      "9507    623311\n",
      "9508    270455\n",
      "9509    343307\n",
      "Name: 식료품음료구입, Length: 9510, dtype: int64\n",
      "330163\n",
      "14.389040092916025\n"
     ]
    }
   ],
   "source": [
    "tot_식료품음료구입 = dat_2019['식료품음료구입']\n",
    "tot_식료품음료구입_mean = int(tot_식료품음료구입.mean())\n",
    "tot_식료품음료구입_per = (tot_식료품음료구입_mean / total_expend_mean) * 100  # 전체가구 소비 중 식료품음료구입 소비 비율\n",
    "\n",
    "print(tot_식료품음료구입)\n",
    "print(tot_식료품음료구입_mean)\n",
    "print(tot_식료품음료구입_per)"
   ]
  },
  {
   "cell_type": "markdown",
   "metadata": {},
   "source": [
    "1인가구 식료품음료구입 평균소비 비용, 비율"
   ]
  },
  {
   "cell_type": "code",
   "execution_count": 81,
   "metadata": {},
   "outputs": [
    {
     "name": "stdout",
     "output_type": "stream",
     "text": [
      "0       153011\n",
      "2       171247\n",
      "4       311939\n",
      "5       163525\n",
      "12      170024\n",
      "         ...  \n",
      "9499    147440\n",
      "9500    129670\n",
      "9501    185910\n",
      "9504    135465\n",
      "9508    270455\n",
      "Name: 식료품음료구입, Length: 2827, dtype: int64\n",
      "175818\n",
      "13.444919327272267\n"
     ]
    }
   ],
   "source": [
    "sin_tot_식료품음료구입 = dat_2019.loc[dat_2019['가구원수'] == 1, '식료품음료구입']\n",
    "sin_tot_식료품음료구입_mean = int(sin_tot_식료품음료구입.mean())\n",
    "sin_tot_식료품음료구입_per = (sin_tot_식료품음료구입_mean / single_expend_mean) * 100  # 1인가구 소비 중 식료품음료구입 소비 비율\n",
    "\n",
    "print(sin_tot_식료품음료구입)\n",
    "print(sin_tot_식료품음료구입_mean)\n",
    "print(sin_tot_식료품음료구입_per)"
   ]
  },
  {
   "cell_type": "code",
   "execution_count": 84,
   "metadata": {},
   "outputs": [
    {
     "name": "stdout",
     "output_type": "stream",
     "text": [
      "전체가구 소비 중 식료품음료구입 소비지출, 비율: 330,163원 (14.39%)\n",
      "1인가구 소비 중 식료품음료구입 소비지출, 비율: 175,818원 (13.44%)\n"
     ]
    }
   ],
   "source": [
    "print(f\"전체가구 소비 중 식료품음료구입 소비지출, 비율: {tot_식료품음료구입_mean:,}원 ({tot_식료품음료구입_per:.2f}%)\")\n",
    "print(f\"1인가구 소비 중 식료품음료구입 소비지출, 비율: {sin_tot_식료품음료구입_mean:,}원 ({sin_tot_식료품음료구입_per:.2f}%)\")"
   ]
  },
  {
   "cell_type": "markdown",
   "metadata": {},
   "source": [
    "전체가구 주류담배구입 평균소비 비용, 비율"
   ]
  },
  {
   "cell_type": "code",
   "execution_count": 88,
   "metadata": {},
   "outputs": [
    {
     "name": "stdout",
     "output_type": "stream",
     "text": [
      "0         1142\n",
      "1          800\n",
      "2         1594\n",
      "3         4429\n",
      "4        55529\n",
      "         ...  \n",
      "9505     27333\n",
      "9506    222713\n",
      "9507     33882\n",
      "9508    174718\n",
      "9509    131605\n",
      "Name: 주류담배구입, Length: 9510, dtype: int64\n",
      "34241\n",
      "1.492278425570211\n"
     ]
    }
   ],
   "source": [
    "tot_주류담배구입 = dat_2019['주류담배구입']\n",
    "tot_주류담배구입_mean = int(tot_주류담배구입.mean())\n",
    "tot_주류담배구입_per = (tot_주류담배구입_mean / total_expend_mean) * 100  # 전체가구 소비 중 주류담배구입 소비 비율\n",
    "\n",
    "print(tot_주류담배구입)\n",
    "print(tot_주류담배구입_mean)\n",
    "print(tot_주류담배구입_per)"
   ]
  },
  {
   "cell_type": "markdown",
   "metadata": {},
   "source": [
    "1인가구 주류담배구입 평균소비 비용, 비율"
   ]
  },
  {
   "cell_type": "code",
   "execution_count": 89,
   "metadata": {},
   "outputs": [
    {
     "name": "stdout",
     "output_type": "stream",
     "text": [
      "0         1142\n",
      "2         1594\n",
      "4        55529\n",
      "5        11847\n",
      "12           0\n",
      "         ...  \n",
      "9499     86940\n",
      "9500     39000\n",
      "9501     30000\n",
      "9504    143065\n",
      "9508    174718\n",
      "Name: 주류담배구입, Length: 2827, dtype: int64\n",
      "28626\n",
      "2.189049247872777\n"
     ]
    }
   ],
   "source": [
    "sin_tot_주류담배구입 = dat_2019.loc[dat_2019['가구원수'] == 1, '주류담배구입']\n",
    "sin_tot_주류담배구입_mean = int(sin_tot_주류담배구입.mean())\n",
    "sin_tot_주류담배구입_per = (sin_tot_주류담배구입_mean / single_expend_mean) * 100  # 1인가구 소비 중 기타상품서비스 소비 비율\n",
    "\n",
    "print(sin_tot_주류담배구입)\n",
    "print(sin_tot_주류담배구입_mean)\n",
    "print(sin_tot_주류담배구입_per)"
   ]
  },
  {
   "cell_type": "code",
   "execution_count": 95,
   "metadata": {},
   "outputs": [
    {
     "name": "stdout",
     "output_type": "stream",
     "text": [
      "전체가구 소비 중 주류담배구입 소비지출, 비율: 34,241원 (1.49%)\n",
      "1인가구 소비 중 주류담배구입 소비지출, 비율: 28,626원 (2.19%)\n"
     ]
    }
   ],
   "source": [
    "print(f\"전체가구 소비 중 주류담배구입 소비지출, 비율: {tot_주류담배구입_mean:,}원 ({tot_주류담배구입_per:.2f}%)\")\n",
    "print(f\"1인가구 소비 중 주류담배구입 소비지출, 비율: {sin_tot_주류담배구입_mean:,}원 ({sin_tot_주류담배구입_per:.2f}%)\")"
   ]
  },
  {
   "cell_type": "markdown",
   "metadata": {},
   "source": [
    "전체가구 의류신발구입 평균소비 비용, 비율"
   ]
  },
  {
   "cell_type": "code",
   "execution_count": 96,
   "metadata": {},
   "outputs": [
    {
     "name": "stdout",
     "output_type": "stream",
     "text": [
      "0        21833\n",
      "1        45300\n",
      "2        86571\n",
      "3        35060\n",
      "4       367754\n",
      "         ...  \n",
      "9505     73956\n",
      "9506    107586\n",
      "9507    491053\n",
      "9508     50709\n",
      "9509      2591\n",
      "Name: 의류신발구입, Length: 9510, dtype: int64\n",
      "131953\n",
      "5.750726178828482\n"
     ]
    }
   ],
   "source": [
    "tot_의류신발구입 = dat_2019['의류신발구입']\n",
    "tot_의류신발구입_mean = int(tot_의류신발구입.mean())\n",
    "tot_의류신발구입_per = (tot_의류신발구입_mean / total_expend_mean) * 100  # 전체가구 소비 중 주류담배구입 소비 비율\n",
    "\n",
    "print(tot_의류신발구입)\n",
    "print(tot_의류신발구입_mean)\n",
    "print(tot_의류신발구입_per)"
   ]
  },
  {
   "cell_type": "markdown",
   "metadata": {},
   "source": [
    "1인가구 의류신발구입 평균소비 비용, 비율"
   ]
  },
  {
   "cell_type": "code",
   "execution_count": 105,
   "metadata": {},
   "outputs": [
    {
     "name": "stdout",
     "output_type": "stream",
     "text": [
      "0        21833\n",
      "2        86571\n",
      "4       367754\n",
      "5         8177\n",
      "12       29400\n",
      "         ...  \n",
      "9499    144780\n",
      "9500         0\n",
      "9501    152000\n",
      "9504      2800\n",
      "9508     50709\n",
      "Name: 의류신발구입, Length: 2827, dtype: int64\n",
      "66339\n",
      "5.072987425928602\n"
     ]
    }
   ],
   "source": [
    "sin_tot_의류신발구입 = dat_2019.loc[dat_2019['가구원수'] == 1, '의류신발구입']\n",
    "sin_tot_의류신발구입_mean = int(sin_tot_의류신발구입.mean())\n",
    "sin_tot_의류신발구입_per = (sin_tot_의류신발구입_mean / single_expend_mean) * 100  # 1인가구 소비 중 기타상품서비스 소비 비율\n",
    "\n",
    "print(sin_tot_의류신발구입)\n",
    "print(sin_tot_의류신발구입_mean)\n",
    "print(sin_tot_의류신발구입_per)"
   ]
  },
  {
   "cell_type": "code",
   "execution_count": 106,
   "metadata": {},
   "outputs": [
    {
     "name": "stdout",
     "output_type": "stream",
     "text": [
      "전체가구 소비 중 의류신발구입 소비지출, 비율: 131,953원 (5.75%)\n",
      "1인가구 소비 중 의류신발구입 소비지출, 비율: 66,339원 (5.07%)\n"
     ]
    }
   ],
   "source": [
    "print(f\"전체가구 소비 중 의류신발구입 소비지출, 비율: {tot_의류신발구입_mean:,}원 ({tot_의류신발구입_per:.2f}%)\")\n",
    "print(f\"1인가구 소비 중 의류신발구입 소비지출, 비율: {sin_tot_의류신발구입_mean:,}원 ({sin_tot_의류신발구입_per:.2f}%)\")"
   ]
  },
  {
   "cell_type": "markdown",
   "metadata": {},
   "source": [
    "전체가구 주거수도광열비 평균소비 비용, 비율"
   ]
  },
  {
   "cell_type": "code",
   "execution_count": 99,
   "metadata": {},
   "outputs": [
    {
     "name": "stdout",
     "output_type": "stream",
     "text": [
      "0        79220\n",
      "1       302318\n",
      "2       506276\n",
      "3       117620\n",
      "4       368676\n",
      "         ...  \n",
      "9505    140402\n",
      "9506    137099\n",
      "9507    466607\n",
      "9508    135583\n",
      "9509     57155\n",
      "Name: 주거수도광열비, Length: 9510, dtype: int64\n",
      "261760\n",
      "11.407926190159705\n"
     ]
    }
   ],
   "source": [
    "tot_주거수도광열비 = dat_2019['주거수도광열비']\n",
    "tot_주거수도광열비_mean = int(tot_주거수도광열비.mean())\n",
    "tot_주거수도광열비_per = (tot_주거수도광열비_mean / total_expend_mean) * 100  # 전체가구 소비 중 주류담배구입 소비 비율\n",
    "\n",
    "print(tot_주거수도광열비)\n",
    "print(tot_주거수도광열비_mean)\n",
    "print(tot_주거수도광열비_per)"
   ]
  },
  {
   "cell_type": "markdown",
   "metadata": {},
   "source": [
    "1인가구 주거수도광열비 평균소비 비용, 비율"
   ]
  },
  {
   "cell_type": "code",
   "execution_count": 107,
   "metadata": {},
   "outputs": [
    {
     "name": "stdout",
     "output_type": "stream",
     "text": [
      "0        79220\n",
      "2       506276\n",
      "4       368676\n",
      "5       409643\n",
      "12      268340\n",
      "         ...  \n",
      "9499    179690\n",
      "9500    161150\n",
      "9501     78560\n",
      "9504    168001\n",
      "9508    135583\n",
      "Name: 주거수도광열비, Length: 2827, dtype: int64\n",
      "237834\n",
      "18.18732406967701\n"
     ]
    }
   ],
   "source": [
    "sin_tot_주거수도광열비 = dat_2019.loc[dat_2019['가구원수'] == 1, '주거수도광열비']\n",
    "sin_tot_주거수도광열비_mean = int(sin_tot_주거수도광열비.mean())\n",
    "sin_tot_주거수도광열비_per = (sin_tot_주거수도광열비_mean / single_expend_mean) * 100  # 1인가구 소비 중 기타상품서비스 소비 비율\n",
    "\n",
    "print(sin_tot_주거수도광열비)\n",
    "print(sin_tot_주거수도광열비_mean)\n",
    "print(sin_tot_주거수도광열비_per)"
   ]
  },
  {
   "cell_type": "code",
   "execution_count": 108,
   "metadata": {},
   "outputs": [
    {
     "name": "stdout",
     "output_type": "stream",
     "text": [
      "전체가구 소비 중 주거수도광열비 소비지출, 비율: 261,760원 (11.41%)\n",
      "1인가구 소비 중 주거수도광열비 소비지출, 비율: 237,834원 (18.19%)\n"
     ]
    }
   ],
   "source": [
    "print(f\"전체가구 소비 중 주거수도광열비 소비지출, 비율: {tot_주거수도광열비_mean:,}원 ({tot_주거수도광열비_per:.2f}%)\")\n",
    "print(f\"1인가구 소비 중 주거수도광열비 소비지출, 비율: {sin_tot_주거수도광열비_mean:,}원 ({sin_tot_주거수도광열비_per:.2f}%)\")"
   ]
  },
  {
   "cell_type": "markdown",
   "metadata": {},
   "source": [
    "전체가구 가정용품가사서비스이용 평균소비 비용, 비율"
   ]
  },
  {
   "cell_type": "code",
   "execution_count": 102,
   "metadata": {},
   "outputs": [
    {
     "name": "stdout",
     "output_type": "stream",
     "text": [
      "0          8013\n",
      "1         26840\n",
      "2         35007\n",
      "3         12674\n",
      "4       2808527\n",
      "         ...   \n",
      "9505      89460\n",
      "9506      73629\n",
      "9507      81907\n",
      "9508      12647\n",
      "9509      28841\n",
      "Name: 가정용품가사서비스이용, Length: 9510, dtype: int64\n",
      "113575\n",
      "4.949783072460989\n"
     ]
    }
   ],
   "source": [
    "tot_가정용품가사서비스이용 = dat_2019['가정용품가사서비스이용']\n",
    "tot_가정용품가사서비스이용_mean = int(tot_가정용품가사서비스이용.mean())\n",
    "tot_가정용품가사서비스이용_per = (tot_가정용품가사서비스이용_mean / total_expend_mean) * 100  # 전체가구 소비 중 주류담배구입 소비 비율\n",
    "\n",
    "print(tot_가정용품가사서비스이용)\n",
    "print(tot_가정용품가사서비스이용_mean)\n",
    "print(tot_가정용품가사서비스이용_per)"
   ]
  },
  {
   "cell_type": "markdown",
   "metadata": {},
   "source": [
    "1인가구 가정용품가사서비스이용 평균소비 비용, 비율"
   ]
  },
  {
   "cell_type": "code",
   "execution_count": 109,
   "metadata": {},
   "outputs": [
    {
     "name": "stdout",
     "output_type": "stream",
     "text": [
      "0          8013\n",
      "2         35007\n",
      "4       2808527\n",
      "5        129128\n",
      "12        16806\n",
      "         ...   \n",
      "9499      24750\n",
      "9500      37000\n",
      "9501       6000\n",
      "9504      17992\n",
      "9508      12647\n",
      "Name: 가정용품가사서비스이용, Length: 2827, dtype: int64\n",
      "62826\n",
      "4.804345980816569\n"
     ]
    }
   ],
   "source": [
    "sin_tot_가정용품가사서비스이용 = dat_2019.loc[dat_2019['가구원수'] == 1, '가정용품가사서비스이용']\n",
    "sin_tot_가정용품가사서비스이용_mean = int(sin_tot_가정용품가사서비스이용.mean())\n",
    "sin_tot_가정용품가사서비스이용_per = (sin_tot_가정용품가사서비스이용_mean / single_expend_mean) * 100  # 1인가구 소비 중 기타상품서비스 소비 비율\n",
    "\n",
    "print(sin_tot_가정용품가사서비스이용)\n",
    "print(sin_tot_가정용품가사서비스이용_mean)\n",
    "print(sin_tot_가정용품가사서비스이용_per)"
   ]
  },
  {
   "cell_type": "code",
   "execution_count": 110,
   "metadata": {},
   "outputs": [
    {
     "name": "stdout",
     "output_type": "stream",
     "text": [
      "전체가구 소비 중 가정용품가사서비스이용 소비지출, 비율: 113,575원 (4.95%)\n",
      "1인가구 소비 중 가정용품가사서비스이용 소비지출, 비율: 62,826원 (4.80%)\n"
     ]
    }
   ],
   "source": [
    "print(f\"전체가구 소비 중 가정용품가사서비스이용 소비지출, 비율: {tot_가정용품가사서비스이용_mean:,}원 ({tot_가정용품가사서비스이용_per:.2f}%)\")\n",
    "print(f\"1인가구 소비 중 가정용품가사서비스이용 소비지출, 비율: {sin_tot_가정용품가사서비스이용_mean:,}원 ({sin_tot_가정용품가사서비스이용_per:.2f}%)\")"
   ]
  },
  {
   "cell_type": "markdown",
   "metadata": {},
   "source": [
    "전체가구 보건제품구입 평균소비 비용, 비율"
   ]
  },
  {
   "cell_type": "code",
   "execution_count": 111,
   "metadata": {},
   "outputs": [
    {
     "name": "stdout",
     "output_type": "stream",
     "text": [
      "0        16733\n",
      "1       139575\n",
      "2        66304\n",
      "3        39010\n",
      "4       272351\n",
      "         ...  \n",
      "9505     61709\n",
      "9506     59520\n",
      "9507    293552\n",
      "9508     56918\n",
      "9509    125686\n",
      "Name: 보건제품구입, Length: 9510, dtype: int64\n",
      "206698\n",
      "9.00823474806552\n"
     ]
    }
   ],
   "source": [
    "tot_보건제품구입 = dat_2019['보건제품구입']\n",
    "tot_보건제품구입_mean = int(tot_보건제품구입.mean())\n",
    "tot_보건제품구입_per = (tot_보건제품구입_mean / total_expend_mean) * 100  # 전체가구 소비 중 주류담배구입 소비 비율\n",
    "\n",
    "print(tot_보건제품구입)\n",
    "print(tot_보건제품구입_mean)\n",
    "print(tot_보건제품구입_per)"
   ]
  },
  {
   "cell_type": "markdown",
   "metadata": {},
   "source": [
    "1인가구 보건제품구입 평균소비 비용, 비율"
   ]
  },
  {
   "cell_type": "code",
   "execution_count": 112,
   "metadata": {},
   "outputs": [
    {
     "name": "stdout",
     "output_type": "stream",
     "text": [
      "0        16733\n",
      "2        66304\n",
      "4       272351\n",
      "5         9933\n",
      "12       87480\n",
      "         ...  \n",
      "9499     72500\n",
      "9500         0\n",
      "9501    127100\n",
      "9504     14699\n",
      "9508     56918\n",
      "Name: 보건제품구입, Length: 2827, dtype: int64\n",
      "118033\n",
      "9.026061967238439\n"
     ]
    }
   ],
   "source": [
    "sin_tot_보건제품구입 = dat_2019.loc[dat_2019['가구원수'] == 1, '보건제품구입']\n",
    "sin_tot_보건제품구입_mean = int(sin_tot_보건제품구입.mean())\n",
    "sin_tot_보건제품구입_per = (sin_tot_보건제품구입_mean / single_expend_mean) * 100  # 1인가구 소비 중 기타상품서비스 소비 비율\n",
    "\n",
    "print(sin_tot_보건제품구입)\n",
    "print(sin_tot_보건제품구입_mean)\n",
    "print(sin_tot_보건제품구입_per)"
   ]
  },
  {
   "cell_type": "code",
   "execution_count": 113,
   "metadata": {},
   "outputs": [
    {
     "name": "stdout",
     "output_type": "stream",
     "text": [
      "전체가구 소비 중 보건제품구입 소비지출, 비율: 206,698원 (9.01%)\n",
      "1인가구 소비 중 보건제품구입 소비지출, 비율: 118,033원 (9.03%)\n"
     ]
    }
   ],
   "source": [
    "print(f\"전체가구 소비 중 보건제품구입 소비지출, 비율: {tot_보건제품구입_mean:,}원 ({tot_보건제품구입_per:.2f}%)\")\n",
    "print(f\"1인가구 소비 중 보건제품구입 소비지출, 비율: {sin_tot_보건제품구입_mean:,}원 ({sin_tot_보건제품구입_per:.2f}%)\")"
   ]
  },
  {
   "cell_type": "code",
   "execution_count": 116,
   "metadata": {},
   "outputs": [],
   "source": [
    "# col = ['2019']\n",
    "# index = ['소비지출','식료품음료구입','주류담배구입','의류신발구입','주거수도광열비','가정용품가사서비스이용','보건제품구입','교통비','통신비','오락문화비','교육비','음식숙박비',\n",
    "#          '기타상품서비스이용','비소비지출금액']\n",
    "# content = [[total_expend_mean],[tot_식료품음료구입_mean],[tot_주류담배구입_mean],[tot_의류신발구입_mean],[tot_주거수도광열비_mean],[tot_가정용품가사서비스이용_mean],[tot_보건제품구입_mean],\n",
    "#            [tot_교통비_mean],[tot_통신비_mean],[tot_오락문화비_mean],[tot_교육비_mean],[tot_음식숙박비_mean],[tot_기타상품서비스이용_mean],[tot_비소비지출금액_mean]]"
   ]
  },
  {
   "cell_type": "code",
   "execution_count": 141,
   "metadata": {},
   "outputs": [],
   "source": [
    "col = [['2019','2019'],['전체가구','1인가구']]\n",
    "ind = ['소비지출','식료품음료구입','주류담배구입','의류신발구입','주거수도광열비','가정용품가사서비스이용','보건제품구입']\n",
    "content = [[total_expend_mean,single_expend_mean],[tot_식료품음료구입_mean,sin_tot_식료품음료구입_mean],[tot_주류담배구입_mean,sin_tot_주류담배구입_mean],\n",
    "           [tot_의류신발구입_mean,sin_tot_의류신발구입_mean],[tot_주거수도광열비_mean,sin_tot_주거수도광열비_mean],[tot_가정용품가사서비스이용_mean,sin_tot_가정용품가사서비스이용_mean],\n",
    "           [tot_보건제품구입_mean,sin_tot_보건제품구입_mean]]"
   ]
  },
  {
   "cell_type": "code",
   "execution_count": 153,
   "metadata": {},
   "outputs": [
    {
     "data": {
      "text/html": [
       "<div>\n",
       "<style scoped>\n",
       "    .dataframe tbody tr th:only-of-type {\n",
       "        vertical-align: middle;\n",
       "    }\n",
       "\n",
       "    .dataframe tbody tr th {\n",
       "        vertical-align: top;\n",
       "    }\n",
       "\n",
       "    .dataframe thead tr th {\n",
       "        text-align: left;\n",
       "    }\n",
       "</style>\n",
       "<table border=\"1\" class=\"dataframe\">\n",
       "  <thead>\n",
       "    <tr>\n",
       "      <th></th>\n",
       "      <th colspan=\"2\" halign=\"left\">2019</th>\n",
       "    </tr>\n",
       "    <tr>\n",
       "      <th></th>\n",
       "      <th>전체가구</th>\n",
       "      <th>1인가구</th>\n",
       "    </tr>\n",
       "  </thead>\n",
       "  <tbody>\n",
       "    <tr>\n",
       "      <th>소비지출</th>\n",
       "      <td>2294545</td>\n",
       "      <td>1307691</td>\n",
       "    </tr>\n",
       "    <tr>\n",
       "      <th>식료품음료구입</th>\n",
       "      <td>330163</td>\n",
       "      <td>175818</td>\n",
       "    </tr>\n",
       "    <tr>\n",
       "      <th>주류담배구입</th>\n",
       "      <td>34241</td>\n",
       "      <td>28626</td>\n",
       "    </tr>\n",
       "    <tr>\n",
       "      <th>의류신발구입</th>\n",
       "      <td>131953</td>\n",
       "      <td>66339</td>\n",
       "    </tr>\n",
       "    <tr>\n",
       "      <th>주거수도광열비</th>\n",
       "      <td>261760</td>\n",
       "      <td>237834</td>\n",
       "    </tr>\n",
       "    <tr>\n",
       "      <th>가정용품가사서비스이용</th>\n",
       "      <td>113575</td>\n",
       "      <td>62826</td>\n",
       "    </tr>\n",
       "    <tr>\n",
       "      <th>보건제품구입</th>\n",
       "      <td>206698</td>\n",
       "      <td>118033</td>\n",
       "    </tr>\n",
       "  </tbody>\n",
       "</table>\n",
       "</div>"
      ],
      "text/plain": [
       "                2019         \n",
       "                전체가구     1인가구\n",
       "소비지출         2294545  1307691\n",
       "식료품음료구입       330163   175818\n",
       "주류담배구입         34241    28626\n",
       "의류신발구입        131953    66339\n",
       "주거수도광열비       261760   237834\n",
       "가정용품가사서비스이용   113575    62826\n",
       "보건제품구입        206698   118033"
      ]
     },
     "execution_count": 153,
     "metadata": {},
     "output_type": "execute_result"
    }
   ],
   "source": [
    "df_2019_소비 = pd.DataFrame(content,columns=col,index=ind)\n",
    "df_2019_소비"
   ]
  },
  {
   "cell_type": "code",
   "execution_count": 143,
   "metadata": {},
   "outputs": [],
   "source": [
    "col_rate = [['2019','2019'],['전체가구','1인가구']]\n",
    "ind_rate = ['소비지출','식료품음료구입','주류담배구입','의류신발구입','주거수도광열비','가정용품가사서비스이용','보건제품구입']\n",
    "content_rate = [[total_expend_mean,single_expend_mean],[tot_식료품음료구입_per,sin_tot_식료품음료구입_per],[tot_주류담배구입_per,sin_tot_주류담배구입_per],\n",
    "           [tot_의류신발구입_per,sin_tot_의류신발구입_per],[tot_주거수도광열비_per,sin_tot_주거수도광열비_per],[tot_가정용품가사서비스이용_per,sin_tot_가정용품가사서비스이용_per],\n",
    "           [tot_보건제품구입_per,sin_tot_보건제품구입_per]]"
   ]
  },
  {
   "cell_type": "code",
   "execution_count": 154,
   "metadata": {},
   "outputs": [
    {
     "data": {
      "text/html": [
       "<div>\n",
       "<style scoped>\n",
       "    .dataframe tbody tr th:only-of-type {\n",
       "        vertical-align: middle;\n",
       "    }\n",
       "\n",
       "    .dataframe tbody tr th {\n",
       "        vertical-align: top;\n",
       "    }\n",
       "\n",
       "    .dataframe thead tr th {\n",
       "        text-align: left;\n",
       "    }\n",
       "</style>\n",
       "<table border=\"1\" class=\"dataframe\">\n",
       "  <thead>\n",
       "    <tr>\n",
       "      <th></th>\n",
       "      <th colspan=\"2\" halign=\"left\">2019</th>\n",
       "    </tr>\n",
       "    <tr>\n",
       "      <th></th>\n",
       "      <th>전체가구</th>\n",
       "      <th>1인가구</th>\n",
       "    </tr>\n",
       "  </thead>\n",
       "  <tbody>\n",
       "    <tr>\n",
       "      <th>소비지출</th>\n",
       "      <td>2294545.00000000</td>\n",
       "      <td>1307691.00000000</td>\n",
       "    </tr>\n",
       "    <tr>\n",
       "      <th>식료품음료구입</th>\n",
       "      <td>14.38904009</td>\n",
       "      <td>13.44491933</td>\n",
       "    </tr>\n",
       "    <tr>\n",
       "      <th>주류담배구입</th>\n",
       "      <td>1.49227843</td>\n",
       "      <td>2.18904925</td>\n",
       "    </tr>\n",
       "    <tr>\n",
       "      <th>의류신발구입</th>\n",
       "      <td>5.75072618</td>\n",
       "      <td>5.07298743</td>\n",
       "    </tr>\n",
       "    <tr>\n",
       "      <th>주거수도광열비</th>\n",
       "      <td>11.40792619</td>\n",
       "      <td>18.18732407</td>\n",
       "    </tr>\n",
       "    <tr>\n",
       "      <th>가정용품가사서비스이용</th>\n",
       "      <td>4.94978307</td>\n",
       "      <td>4.80434598</td>\n",
       "    </tr>\n",
       "    <tr>\n",
       "      <th>보건제품구입</th>\n",
       "      <td>9.00823475</td>\n",
       "      <td>9.02606197</td>\n",
       "    </tr>\n",
       "  </tbody>\n",
       "</table>\n",
       "</div>"
      ],
      "text/plain": [
       "                        2019                 \n",
       "                        전체가구             1인가구\n",
       "소비지출        2294545.00000000 1307691.00000000\n",
       "식료품음료구입          14.38904009      13.44491933\n",
       "주류담배구입            1.49227843       2.18904925\n",
       "의류신발구입            5.75072618       5.07298743\n",
       "주거수도광열비          11.40792619      18.18732407\n",
       "가정용품가사서비스이용       4.94978307       4.80434598\n",
       "보건제품구입            9.00823475       9.02606197"
      ]
     },
     "execution_count": 154,
     "metadata": {},
     "output_type": "execute_result"
    }
   ],
   "source": [
    "df_2019_소비비율 = pd.DataFrame(content_rate,columns=col_rate,index=ind_rate)\n",
    "df_2019_소비비율"
   ]
  },
  {
   "cell_type": "code",
   "execution_count": 158,
   "metadata": {},
   "outputs": [
    {
     "data": {
      "text/html": [
       "<div>\n",
       "<style scoped>\n",
       "    .dataframe tbody tr th:only-of-type {\n",
       "        vertical-align: middle;\n",
       "    }\n",
       "\n",
       "    .dataframe tbody tr th {\n",
       "        vertical-align: top;\n",
       "    }\n",
       "\n",
       "    .dataframe thead tr th {\n",
       "        text-align: left;\n",
       "    }\n",
       "</style>\n",
       "<table border=\"1\" class=\"dataframe\">\n",
       "  <thead>\n",
       "    <tr>\n",
       "      <th></th>\n",
       "      <th colspan=\"2\" halign=\"left\">2019</th>\n",
       "    </tr>\n",
       "    <tr>\n",
       "      <th></th>\n",
       "      <th>전체가구</th>\n",
       "      <th>1인가구</th>\n",
       "    </tr>\n",
       "  </thead>\n",
       "  <tbody>\n",
       "    <tr>\n",
       "      <th>소비지출</th>\n",
       "      <td>2294545.00000000</td>\n",
       "      <td>1307691.00000000</td>\n",
       "    </tr>\n",
       "    <tr>\n",
       "      <th>식료품음료구입</th>\n",
       "      <td>14.39000000</td>\n",
       "      <td>13.44000000</td>\n",
       "    </tr>\n",
       "    <tr>\n",
       "      <th>주류담배구입</th>\n",
       "      <td>1.49000000</td>\n",
       "      <td>2.19000000</td>\n",
       "    </tr>\n",
       "    <tr>\n",
       "      <th>의류신발구입</th>\n",
       "      <td>5.75000000</td>\n",
       "      <td>5.07000000</td>\n",
       "    </tr>\n",
       "    <tr>\n",
       "      <th>주거수도광열비</th>\n",
       "      <td>11.41000000</td>\n",
       "      <td>18.19000000</td>\n",
       "    </tr>\n",
       "    <tr>\n",
       "      <th>가정용품가사서비스이용</th>\n",
       "      <td>4.95000000</td>\n",
       "      <td>4.80000000</td>\n",
       "    </tr>\n",
       "    <tr>\n",
       "      <th>보건제품구입</th>\n",
       "      <td>9.01000000</td>\n",
       "      <td>9.03000000</td>\n",
       "    </tr>\n",
       "  </tbody>\n",
       "</table>\n",
       "</div>"
      ],
      "text/plain": [
       "                        2019                 \n",
       "                        전체가구             1인가구\n",
       "소비지출        2294545.00000000 1307691.00000000\n",
       "식료품음료구입          14.39000000      13.44000000\n",
       "주류담배구입            1.49000000       2.19000000\n",
       "의류신발구입            5.75000000       5.07000000\n",
       "주거수도광열비          11.41000000      18.19000000\n",
       "가정용품가사서비스이용       4.95000000       4.80000000\n",
       "보건제품구입            9.01000000       9.03000000"
      ]
     },
     "execution_count": 158,
     "metadata": {},
     "output_type": "execute_result"
    }
   ],
   "source": [
    "df_2019_소비비율.round(2)"
   ]
  },
  {
   "cell_type": "markdown",
   "metadata": {},
   "source": [
    "전체가구 교통비 평균소비 비용, 비율"
   ]
  },
  {
   "cell_type": "code",
   "execution_count": null,
   "metadata": {},
   "outputs": [
    {
     "name": "stdout",
     "output_type": "stream",
     "text": [
      "0       153011\n",
      "1       300713\n",
      "2       171247\n",
      "3       155088\n",
      "4       311939\n",
      "         ...  \n",
      "9505    689222\n",
      "9506    657277\n",
      "9507    623311\n",
      "9508    270455\n",
      "9509    343307\n",
      "Name: 식료품음료구입, Length: 9510, dtype: int64\n",
      "330163\n",
      "14.389040092916025\n"
     ]
    }
   ],
   "source": [
    "tot_교통비 = dat_2019['교통비']\n",
    "tot_교통비_mean = int(tot_교통비.mean())\n",
    "tot_교통비_per = (tot_교통비_mean / total_expend_mean) * 100  # 전체가구 소비 중 식료품음료구입 소비 비율\n",
    "\n",
    "print(tot_교통비)\n",
    "print(tot_교통비_mean)\n",
    "print(tot_교통비_per)"
   ]
  },
  {
   "cell_type": "markdown",
   "metadata": {},
   "source": [
    "1인가구 식료품음료구입 평균소비 비용, 비율"
   ]
  },
  {
   "cell_type": "code",
   "execution_count": null,
   "metadata": {},
   "outputs": [
    {
     "name": "stdout",
     "output_type": "stream",
     "text": [
      "0       153011\n",
      "2       171247\n",
      "4       311939\n",
      "5       163525\n",
      "12      170024\n",
      "         ...  \n",
      "9499    147440\n",
      "9500    129670\n",
      "9501    185910\n",
      "9504    135465\n",
      "9508    270455\n",
      "Name: 식료품음료구입, Length: 2827, dtype: int64\n",
      "175818\n",
      "13.444919327272267\n"
     ]
    }
   ],
   "source": [
    "sin_tot_식료품음료구입 = dat_2019.loc[dat_2019['가구원수'] == 1, '교통비']\n",
    "sin_tot_식료품음료구입_mean = int(sin_tot_식료품음료구입.mean())\n",
    "sin_tot_식료품음료구입_per = (sin_tot_식료품음료구입_mean / single_expend_mean) * 100  # 1인가구 소비 중 식료품음료구입 소비 비율\n",
    "\n",
    "print(sin_tot_식료품음료구입)\n",
    "print(sin_tot_식료품음료구입_mean)\n",
    "print(sin_tot_식료품음료구입_per)"
   ]
  },
  {
   "cell_type": "code",
   "execution_count": null,
   "metadata": {},
   "outputs": [
    {
     "name": "stdout",
     "output_type": "stream",
     "text": [
      "전체가구 소비 중 식료품음료구입 소비지출, 비율: 330,163원 (14.39%)\n",
      "1인가구 소비 중 식료품음료구입 소비지출, 비율: 175,818원 (13.44%)\n"
     ]
    }
   ],
   "source": [
    "print(f\"전체가구 소비 중 식료품음료구입 소비지출, 비율: {tot_식료품음료구입_mean:,}원 ({tot_식료품음료구입_per:.2f}%)\")\n",
    "print(f\"1인가구 소비 중 식료품음료구입 소비지출, 비율: {sin_tot_식료품음료구입_mean:,}원 ({sin_tot_식료품음료구입_per:.2f}%)\")"
   ]
  },
  {
   "cell_type": "code",
   "execution_count": null,
   "metadata": {},
   "outputs": [],
   "source": []
  },
  {
   "cell_type": "code",
   "execution_count": null,
   "metadata": {},
   "outputs": [],
   "source": []
  },
  {
   "cell_type": "code",
   "execution_count": null,
   "metadata": {},
   "outputs": [],
   "source": []
  },
  {
   "cell_type": "code",
   "execution_count": null,
   "metadata": {},
   "outputs": [],
   "source": []
  },
  {
   "cell_type": "code",
   "execution_count": null,
   "metadata": {},
   "outputs": [],
   "source": []
  },
  {
   "cell_type": "code",
   "execution_count": null,
   "metadata": {},
   "outputs": [],
   "source": []
  },
  {
   "cell_type": "code",
   "execution_count": null,
   "metadata": {},
   "outputs": [],
   "source": []
  }
 ],
 "metadata": {
  "kernelspec": {
   "display_name": "base",
   "language": "python",
   "name": "python3"
  },
  "language_info": {
   "codemirror_mode": {
    "name": "ipython",
    "version": 3
   },
   "file_extension": ".py",
   "mimetype": "text/x-python",
   "name": "python",
   "nbconvert_exporter": "python",
   "pygments_lexer": "ipython3",
   "version": "3.11.7"
  }
 },
 "nbformat": 4,
 "nbformat_minor": 2
}
